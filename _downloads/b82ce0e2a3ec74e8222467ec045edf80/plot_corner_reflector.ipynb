{
  "cells": [
    {
      "cell_type": "markdown",
      "metadata": {},
      "source": [
        "\n# Plot a Corner Reflector\n\nThis is an example of how to plot a corner reflector.\n"
      ]
    },
    {
      "cell_type": "code",
      "execution_count": null,
      "metadata": {
        "collapsed": false
      },
      "outputs": [],
      "source": [
        "print(__doc__)\n\n# Author: Max Grover (mgrover@anl.gov)\n# License: BSD 3 clause\n\nfrom open_radar_data import DATASETS\n\nimport pyart\n\nfilename = DATASETS.fetch(\"sgpkasacrcrrasterC1.a1.20130419.012153.nc\")\n\n# Read the data\nradar = pyart.io.read(filename)\n\n# Set up the display object\ndisplay = pyart.graph.RadarDisplay(radar)\n\n# Set the corner reflector to be 478 m away, with elevations between -0.5 to 2.5 deg\ndisplay.plot_cr_raster(target_range=478.0, el_limits=[-0.5, 2.5], cmap=\"HomeyerRainbow\")"
      ]
    }
  ],
  "metadata": {
    "kernelspec": {
      "display_name": "Python 3",
      "language": "python",
      "name": "python3"
    },
    "language_info": {
      "codemirror_mode": {
        "name": "ipython",
        "version": 3
      },
      "file_extension": ".py",
      "mimetype": "text/x-python",
      "name": "python",
      "nbconvert_exporter": "python",
      "pygments_lexer": "ipython3",
      "version": "3.12.5"
    }
  },
  "nbformat": 4,
  "nbformat_minor": 0
}