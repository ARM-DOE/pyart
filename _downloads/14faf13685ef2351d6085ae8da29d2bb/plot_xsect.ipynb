{
  "cells": [
    {
      "cell_type": "code",
      "execution_count": null,
      "metadata": {
        "collapsed": false
      },
      "outputs": [],
      "source": [
        "%matplotlib inline"
      ]
    },
    {
      "cell_type": "markdown",
      "metadata": {},
      "source": [
        "\n# Plot a cross section from  a PPI volume\n\nAn example which extracts a cross section at two azimuth angles from a volume\nof PPI scans and plots both cross sections.\n"
      ]
    },
    {
      "cell_type": "code",
      "execution_count": null,
      "metadata": {
        "collapsed": false
      },
      "outputs": [],
      "source": [
        "print(__doc__)\n\n# Author: Jonathan J. Helmus (jhelmus@anl.gov)\n# License: BSD 3 clause\n\nimport matplotlib.pyplot as plt\nimport pyart\nfrom pyart.testing import get_test_data\n\nfilename = get_test_data('XSW110520105408.RAW7HHF')\n\nradar = pyart.io.read(filename)\nxsect = pyart.util.cross_section_ppi(radar, [45, 90])\n\ndisplay = pyart.graph.RadarDisplay(xsect)\nfig = plt.figure()\nax = fig.add_subplot(211)\ndisplay.plot('reflectivity', 0, vmin=-32, vmax=64.)\nax = fig.add_subplot(212)\ndisplay.plot('reflectivity', 1, vmin=-32, vmax=64.)\nplt.tight_layout()\nplt.show()"
      ]
    }
  ],
  "metadata": {
    "kernelspec": {
      "display_name": "Python 3",
      "language": "python",
      "name": "python3"
    },
    "language_info": {
      "codemirror_mode": {
        "name": "ipython",
        "version": 3
      },
      "file_extension": ".py",
      "mimetype": "text/x-python",
      "name": "python",
      "nbconvert_exporter": "python",
      "pygments_lexer": "ipython3",
      "version": "3.10.4"
    }
  },
  "nbformat": 4,
  "nbformat_minor": 0
}