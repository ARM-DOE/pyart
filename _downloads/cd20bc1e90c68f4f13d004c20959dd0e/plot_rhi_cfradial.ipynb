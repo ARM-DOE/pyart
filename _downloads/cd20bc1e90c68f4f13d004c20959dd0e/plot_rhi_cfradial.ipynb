{
  "cells": [
    {
      "cell_type": "code",
      "execution_count": null,
      "metadata": {
        "collapsed": false
      },
      "outputs": [],
      "source": [
        "%matplotlib inline"
      ]
    },
    {
      "cell_type": "markdown",
      "metadata": {},
      "source": [
        "\n# Create a multiple panel RHI plot from a CF/Radial file\n\nAn example which creates a multiple panel RHI plot of a CF/Radial file using\na RadarDisplay object.\n"
      ]
    },
    {
      "cell_type": "code",
      "execution_count": null,
      "metadata": {
        "collapsed": false
      },
      "outputs": [],
      "source": [
        "print(__doc__)\n\n# Author: Jonathan J. Helmus (jhelmus@anl.gov)\n# License: BSD 3 clause\n\nimport matplotlib.pyplot as plt\nimport netCDF4\nimport pyart\nfrom pyart.testing import get_test_data\n\nfilename = get_test_data('sgpxsaprrhicmacI5.c0.20110524.015604_NC4.nc')\n\n# create the plot using RadarDisplay\nradar = pyart.io.read_cfradial(filename)\nradar.metadata['instrument_name'] = 'XSARP'\ndisplay = pyart.graph.RadarDisplay(radar)\n\nfig = plt.figure(figsize=[12, 17])\nfig.subplots_adjust(hspace=0.4)\nxlabel = 'Distance from radar (km)'\nylabel = 'Height agl (km)'\ncolorbar_label = 'Hz. Eq. Refl. Fac. (dBZ)'\nnplots = radar.nsweeps\n\nfor snum in radar.sweep_number['data']:\n\n    fixed_angle = radar.fixed_angle['data'][snum]\n    title = 'HSRHI Az=%.3f' % (fixed_angle)\n    ax = fig.add_subplot(nplots, 1, snum+1)\n    display.plot('reflectivity_horizontal', snum, vmin=-20, vmax=20,\n                 mask_outside=False, title=title,\n                 axislabels=(xlabel, ylabel),\n                 colorbar_label=colorbar_label, ax=ax)\n    display.set_limits(ylim=[0, 15], ax=ax)\n\ntime_start = netCDF4.num2date(\n    radar.time['data'][0], radar.time['units'],\n    only_use_cftime_datetimes=False, only_use_python_datetimes=True)\nfigure_title = 'Time: ' + time_start.isoformat() + 'Z'\nfig.text(0.35, 0.92, figure_title)\n\nplt.show()"
      ]
    }
  ],
  "metadata": {
    "kernelspec": {
      "display_name": "Python 3",
      "language": "python",
      "name": "python3"
    },
    "language_info": {
      "codemirror_mode": {
        "name": "ipython",
        "version": 3
      },
      "file_extension": ".py",
      "mimetype": "text/x-python",
      "name": "python",
      "nbconvert_exporter": "python",
      "pygments_lexer": "ipython3",
      "version": "3.10.4"
    }
  },
  "nbformat": 4,
  "nbformat_minor": 0
}