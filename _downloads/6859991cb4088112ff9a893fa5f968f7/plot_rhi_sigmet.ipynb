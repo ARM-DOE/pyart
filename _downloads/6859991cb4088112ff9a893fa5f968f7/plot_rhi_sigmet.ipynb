{
  "cells": [
    {
      "cell_type": "code",
      "execution_count": null,
      "metadata": {
        "collapsed": false
      },
      "outputs": [],
      "source": [
        "%matplotlib inline"
      ]
    },
    {
      "cell_type": "markdown",
      "metadata": {},
      "source": [
        "\n# Create a RHI plot from a Sigmet file\n\nAn example which creates a RHI plot of a Sigmet file using a RadarDisplay\nobject.\n"
      ]
    },
    {
      "cell_type": "code",
      "execution_count": null,
      "metadata": {
        "collapsed": false
      },
      "outputs": [],
      "source": [
        "print(__doc__)\n\n# Author: Jonathan J. Helmus (jhelmus@anl.gov)\n# License: BSD 3 clause\n\nimport matplotlib.pyplot as plt\nimport pyart\nfrom pyart.testing import get_test_data\nimport netCDF4\n\nfilename = get_test_data('XSW110520113537.RAW7HHL')\n\n# create the plot using RadarDisplay\nradar = pyart.io.read_rsl(filename)\ndisplay = pyart.graph.RadarDisplay(radar)\n\nfig = plt.figure(figsize=[10, 4])\nax = fig.add_subplot(111)\n\ninstrument_name = radar.metadata['instrument_name'].decode('utf-8')\ntime_start = netCDF4.num2date(\n    radar.time['data'][0], radar.time['units'],\n    only_use_cftime_datetimes=False, only_use_python_datetimes=True)\ntime_text = ' ' + time_start.isoformat() + 'Z'\nazimuth = radar.fixed_angle['data'][0]\ntitle = 'RHI ' + instrument_name + time_text + 'Azimuth %.2f' % (azimuth)\n\ndisplay.plot('reflectivity', 0, vmin=-32, vmax=64,\n             title=title, colorbar_flag=False, ax=ax)\ndisplay.set_limits(ylim=[0, 17])\n\ncax = fig.add_axes([.9, .1, 0.02, .8])\ncolorbar_label = 'Eq refl fact (dBz)'\ndisplay.plot_colorbar(fig=fig, cax=cax, label=colorbar_label)\n\nplt.show()"
      ]
    }
  ],
  "metadata": {
    "kernelspec": {
      "display_name": "Python 3",
      "language": "python",
      "name": "python3"
    },
    "language_info": {
      "codemirror_mode": {
        "name": "ipython",
        "version": 3
      },
      "file_extension": ".py",
      "mimetype": "text/x-python",
      "name": "python",
      "nbconvert_exporter": "python",
      "pygments_lexer": "ipython3",
      "version": "3.10.4"
    }
  },
  "nbformat": 4,
  "nbformat_minor": 0
}