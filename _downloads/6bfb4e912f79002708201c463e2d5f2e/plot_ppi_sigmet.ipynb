{
  "cells": [
    {
      "cell_type": "code",
      "execution_count": null,
      "metadata": {
        "collapsed": false
      },
      "outputs": [],
      "source": [
        "%matplotlib inline"
      ]
    },
    {
      "cell_type": "markdown",
      "metadata": {},
      "source": [
        "\n# Create a PPI plot from a Sigmet file\n\nAn example which creates a PPI plot of a Sigmet file.\n"
      ]
    },
    {
      "cell_type": "code",
      "execution_count": null,
      "metadata": {
        "collapsed": false
      },
      "outputs": [],
      "source": [
        "print(__doc__)\n\n# Author: Jonathan J. Helmus (jhelmus@anl.gov)\n# License: BSD 3 clause\n\nimport matplotlib.pyplot as plt\nimport pyart\nfrom pyart.testing import get_test_data\n\nfilename = get_test_data('XSW110520105408.RAW7HHF')\n\n# create the plot using RadarDisplay (recommended method)\nradar = pyart.io.read_rsl(filename)\ndisplay = pyart.graph.RadarDisplay(radar)\nfig = plt.figure()\nax = fig.add_subplot(111)\ndisplay.plot('reflectivity', 0, vmin=-32, vmax=64.)\ndisplay.plot_range_rings([10, 20, 30, 40])\ndisplay.plot_cross_hair(5.)\nplt.show()"
      ]
    }
  ],
  "metadata": {
    "kernelspec": {
      "display_name": "Python 3",
      "language": "python",
      "name": "python3"
    },
    "language_info": {
      "codemirror_mode": {
        "name": "ipython",
        "version": 3
      },
      "file_extension": ".py",
      "mimetype": "text/x-python",
      "name": "python",
      "nbconvert_exporter": "python",
      "pygments_lexer": "ipython3",
      "version": "3.10.4"
    }
  },
  "nbformat": 4,
  "nbformat_minor": 0
}