{
  "cells": [
    {
      "cell_type": "markdown",
      "metadata": {},
      "source": [
        "\n# Grid Data Using Xradar and Py-ART\n\nAn example which uses xradar and Py-ART to grid a PPI file.\n"
      ]
    },
    {
      "cell_type": "code",
      "execution_count": null,
      "metadata": {
        "collapsed": false
      },
      "outputs": [],
      "source": [
        "# Author: Max Grover (mgrover@anl.gov)\n# License: BSD 3 clause\n\n\nimport xradar as xd\n\nimport pyart\nfrom pyart.testing import get_test_data\n\n# Locate the test data and read in using xradar\nfilename = get_test_data(\"swx_20120520_0641.nc\")\ntree = xd.io.open_cfradial1_datatree(filename)\n\n# Give the tree Py-ART radar methods\nradar = pyart.xradar.Xradar(tree)\n\n# Grid using 11 vertical levels, and 101 horizontal grid cells at a resolution on 1 km\ngrid = pyart.map.grid_from_radars(\n    (radar,),\n    grid_shape=(11, 101, 101),\n    grid_limits=(\n        (0.0, 10_000),\n        (-50_000.0, 50_000.0),\n        (-50_000, 50_000.0),\n    ),\n)\n\ndisplay = pyart.graph.GridMapDisplay(grid)\ndisplay.plot_grid(\n    \"reflectivity_horizontal\", level=0, vmin=-20, vmax=60, cmap=\"pyart_ChaseSpectral\"\n)"
      ]
    }
  ],
  "metadata": {
    "kernelspec": {
      "display_name": "Python 3",
      "language": "python",
      "name": "python3"
    },
    "language_info": {
      "codemirror_mode": {
        "name": "ipython",
        "version": 3
      },
      "file_extension": ".py",
      "mimetype": "text/x-python",
      "name": "python",
      "nbconvert_exporter": "python",
      "pygments_lexer": "ipython3",
      "version": "3.12.2"
    }
  },
  "nbformat": 4,
  "nbformat_minor": 0
}