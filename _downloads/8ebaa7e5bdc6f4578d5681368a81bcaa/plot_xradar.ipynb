{
  "cells": [
    {
      "cell_type": "markdown",
      "metadata": {},
      "source": [
        "\n# Plot a PPI Using Xradar and Py-ART\n\nAn example which uses xradar and Py-ART to create a PPI plot of a Cfradial file.\n"
      ]
    },
    {
      "cell_type": "code",
      "execution_count": null,
      "metadata": {
        "collapsed": false
      },
      "outputs": [],
      "source": [
        "# Author: Max Grover (mgrover@anl.gov)\n# License: BSD 3 clause\n\n\nimport xradar as xd\n\nimport pyart\nfrom pyart.testing import get_test_data\n\n# Locate the test data and read in using xradar\nfilename = get_test_data(\"swx_20120520_0641.nc\")\ntree = xd.io.open_cfradial1_datatree(filename)\n\n# Give the tree Py-ART radar methods\nradar = pyart.xradar.Xradar(tree)\n\n# Plot the Reflectivity Field (corrected_reflectivity_horizontal)\ndisplay = pyart.graph.RadarMapDisplay(radar)\ndisplay.plot_ppi(\n    \"corrected_reflectivity_horizontal\", cmap=\"pyart_ChaseSpectral\", vmin=-20, vmax=70\n)"
      ]
    }
  ],
  "metadata": {
    "kernelspec": {
      "display_name": "Python 3",
      "language": "python",
      "name": "python3"
    },
    "language_info": {
      "codemirror_mode": {
        "name": "ipython",
        "version": 3
      },
      "file_extension": ".py",
      "mimetype": "text/x-python",
      "name": "python",
      "nbconvert_exporter": "python",
      "pygments_lexer": "ipython3",
      "version": "3.12.2"
    }
  },
  "nbformat": 4,
  "nbformat_minor": 0
}