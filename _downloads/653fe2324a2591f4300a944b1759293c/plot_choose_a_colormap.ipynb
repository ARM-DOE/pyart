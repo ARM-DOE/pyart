{
  "cells": [
    {
      "cell_type": "markdown",
      "metadata": {},
      "source": [
        "\n# Choose a Colormap for your Plot\n\nThis is an example of what colormaps are available in Py-ART,\nand how to add them to your own plots.\n"
      ]
    },
    {
      "cell_type": "code",
      "execution_count": null,
      "metadata": {
        "collapsed": false
      },
      "outputs": [],
      "source": [
        "print(__doc__)\n\n# Author: Max Grover (mgrover@anl.gov)\n# License: BSD 3 clause\n\nimport matplotlib.pyplot as plt\nimport numpy as np\n\nimport pyart\nfrom pyart.testing import get_test_data"
      ]
    },
    {
      "cell_type": "markdown",
      "metadata": {},
      "source": [
        "**Plot the available colormaps**\n\nLet's see which colormaps are available directly from Py-ART!\nWe use a helper function from matplotlib to plot this.\n\n"
      ]
    },
    {
      "cell_type": "code",
      "execution_count": null,
      "metadata": {
        "collapsed": false
      },
      "outputs": [],
      "source": [
        "# Setup some helper functions and ranges to visualize our colormaps, from matplotlib\ngradient = np.linspace(0, 1, 256)\ngradient = np.vstack((gradient, gradient))\n\n\ndef plot_color_gradients(cmap_category, cmap_list):\n    # Create figure and adjust figure height to number of colormaps\n    nrows = len(cmap_list)\n    figh = 0.35 + 0.15 + (nrows + (nrows - 1) * 0.1) * 0.22\n    fig, axs = plt.subplots(nrows=nrows, figsize=(6.4, figh))\n    fig.subplots_adjust(top=1 - 0.35 / figh, bottom=0.15 / figh, left=0.4, right=0.99)\n\n    axs[0].set_title(cmap_category + \" Colormaps\", fontsize=14)\n\n    for ax, cmap_name in zip(axs, cmap_list):\n        ax.imshow(gradient, aspect=\"auto\", cmap=f\"pyart_{cmap_name}\")\n        ax.text(\n            -0.01,\n            0.5,\n            f\"pyart_{cmap_name}\",\n            va=\"center\",\n            ha=\"right\",\n            fontsize=10,\n            transform=ax.transAxes,\n        )\n\n    # Turn off *all* ticks & spines, not just the ones with colormaps.\n    for ax in axs:\n        ax.set_axis_off()"
      ]
    },
    {
      "cell_type": "markdown",
      "metadata": {},
      "source": [
        "**Colorblind Friendly Colormaps**\n\nWe recommend starting with these colorblind friendly colormaps.\nThese colormaps are the most inclusive, and should be used where\npossible.\n\n"
      ]
    },
    {
      "cell_type": "code",
      "execution_count": null,
      "metadata": {
        "collapsed": false
      },
      "outputs": [],
      "source": [
        "plot_color_gradients(\n    \"Colorblind Friendly\",\n    [\"LangRainbow12\", \"HomeyerRainbow\", \"balance\", \"ChaseSpectral\", \"SpectralExtended\"],\n)"
      ]
    },
    {
      "cell_type": "markdown",
      "metadata": {},
      "source": [
        "**Perceptually Uniform Colormaps**\n\nMore generally, perceptually uniform colormaps are colormaps where\nthe lightness value increases monotonically through the colormaps.\n\n"
      ]
    },
    {
      "cell_type": "code",
      "execution_count": null,
      "metadata": {
        "collapsed": false
      },
      "outputs": [],
      "source": [
        "plot_color_gradients(\n    \"Sequential\",\n    [\n        \"Bu10\",\n        \"Bu7\",\n        \"Gray5\",\n        \"Gray9\",\n    ],\n)"
      ]
    },
    {
      "cell_type": "markdown",
      "metadata": {},
      "source": [
        "**Diverging Colormaps**\n\nDiverging colormaps are helpful when showing positive and negative\nvalues. This is when the 0 value is meaningful (ex. velocity)\n\n"
      ]
    },
    {
      "cell_type": "code",
      "execution_count": null,
      "metadata": {
        "collapsed": false
      },
      "outputs": [],
      "source": [
        "plot_color_gradients(\n    \"Diverging\",\n    [\n        \"BlueBrown11\",\n        \"BrBu10\",\n        \"BrBu12\",\n        \"BuDOr12\",\n        \"BuDOr18\",\n        \"BuDRd12\",\n        \"BuDRd18\",\n        \"BuGr14\",\n        \"BuGy8\",\n        \"BuOr10\",\n        \"BuOr12\",\n        \"BuOr8\",\n        \"BuOrR14\",\n        \"GrMg16\",\n        \"RdYlBu11b\",\n    ],\n)"
      ]
    },
    {
      "cell_type": "markdown",
      "metadata": {},
      "source": [
        "**Field-Specific Colormaps**\n\nThere are some colormaps that useful for specific fields, such as\n\"BlueBrown10\" for terrain, or NWSRef for the National Weather Service\nreflectivity field\n\n"
      ]
    },
    {
      "cell_type": "code",
      "execution_count": null,
      "metadata": {
        "collapsed": false
      },
      "outputs": [],
      "source": [
        "plot_color_gradients(\n    \"Field-specific \",\n    [\n        \"BlueBrown10\",\n        \"Carbone11\",\n        \"Carbone17\",\n        \"Carbone42\",\n        \"Cat12\",\n        \"EWilson17\",\n        \"NWSRef\",\n        \"NWSVel\",\n        \"NWS_SPW\",\n        \"PD17\",\n        \"RRate11\",\n        \"RefDiff\",\n        \"SCook18\",\n        \"StepSeq25\",\n        \"SymGray12\",\n        \"Theodore16\",\n        \"Wild25\",\n    ],\n)"
      ]
    },
    {
      "cell_type": "markdown",
      "metadata": {},
      "source": [
        "**Plot Using a Colormap from Matplotlib**\n\nNow, we can apply one of these colorbars to plot and\ncompare to a colormap from matplotlib, starting with the matplotlib example.\n\n"
      ]
    },
    {
      "cell_type": "code",
      "execution_count": null,
      "metadata": {
        "collapsed": false
      },
      "outputs": [],
      "source": [
        "# Read in a sample cfradial file\nradar_file = get_test_data(\"swx_20120520_0641.nc\")\nradar = pyart.io.read(radar_file)\n\n# Setup a display to plot the data\ndisplay = pyart.graph.RadarDisplay(radar)\n\n# Start by plotting a regular matplotlib colormap (Spectral_r)\ndisplay.plot(\"reflectivity_horizontal\", vmin=-32, vmax=64.0, cmap=\"Spectral_r\")"
      ]
    },
    {
      "cell_type": "markdown",
      "metadata": {},
      "source": [
        "**Plot Using a Colormap from Py-ART**\n\nLet's use one of our Py-ART's colorbars now! We need\nto remember to add the pyart_ string in front of the\ncolormap, as shown below.\nSetup a display to plot the data\n\n"
      ]
    },
    {
      "cell_type": "code",
      "execution_count": null,
      "metadata": {
        "collapsed": false
      },
      "outputs": [],
      "source": [
        "display = pyart.graph.RadarDisplay(radar)\n\n# Start by plotting a regular matplotlib colormap (Spectral_r)\ndisplay.plot(\n    \"reflectivity_horizontal\", vmin=-32, vmax=64.0, cmap=\"pyart_HomeyerRainbow\"\n)"
      ]
    }
  ],
  "metadata": {
    "kernelspec": {
      "display_name": "Python 3",
      "language": "python",
      "name": "python3"
    },
    "language_info": {
      "codemirror_mode": {
        "name": "ipython",
        "version": 3
      },
      "file_extension": ".py",
      "mimetype": "text/x-python",
      "name": "python",
      "nbconvert_exporter": "python",
      "pygments_lexer": "ipython3",
      "version": "3.12.2"
    }
  },
  "nbformat": 4,
  "nbformat_minor": 0
}