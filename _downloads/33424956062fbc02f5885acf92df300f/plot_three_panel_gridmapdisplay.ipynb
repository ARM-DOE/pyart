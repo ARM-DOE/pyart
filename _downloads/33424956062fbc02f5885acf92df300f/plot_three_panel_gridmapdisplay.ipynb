{
  "cells": [
    {
      "cell_type": "markdown",
      "metadata": {},
      "source": [
        "\n# Create a 3 panel plot using GridMapDisplay\n\nAn example that creates a 3 panel plot of a PPI, latitude slice,\nand longitude slice using xarray and a cartopy background.\n"
      ]
    },
    {
      "cell_type": "code",
      "execution_count": null,
      "metadata": {
        "collapsed": false
      },
      "outputs": [],
      "source": [
        "print(__doc__)\n\n# Author: Jason Hemedinger\n# License: BSD 3 clause\n\nimport cartopy.crs as ccrs\nimport matplotlib.pyplot as plt\n\nimport pyart\nfrom pyart.testing import get_test_data\n\n# Read in the gridded file, create GridMapDisplay object\nfilename = get_test_data(\"20110520100000_nexrad_grid.nc\")\nradar = pyart.io.read_grid(filename)\ndisplay = pyart.graph.GridMapDisplay(radar)\n\n# Setting projection, figure size, and panel sizes.\nprojection = ccrs.PlateCarree()\n\nfig = plt.figure(figsize=[15, 7])\n\nmap_panel_axes = [0.05, 0.05, 0.4, 0.80]\nx_cut_panel_axes = [0.55, 0.10, 0.4, 0.25]\ny_cut_panel_axes = [0.55, 0.50, 0.4, 0.25]\n\n# Set parameters.\nlevel = 1\nvmin = -8\nvmax = 64\nlat = 36.5\nlon = -97.7\n\n# Panel 1: PPI plot of the second tilt.\nax1 = fig.add_axes(map_panel_axes, projection=projection)\ndisplay.plot_grid(\n    \"REF\",\n    1,\n    vmin=vmin,\n    vmax=vmax,\n    ax=ax1,\n    projection=projection,\n    cmap=\"pyart_HomeyerRainbow\",\n)\ndisplay.plot_crosshairs(lon=lon, lat=lat)\n\n# Panel 2: longitude slice\nax2 = fig.add_axes(x_cut_panel_axes)\ndisplay.plot_longitude_slice(\n    \"REF\", lon=lon, lat=lat, ax=ax2, vmin=vmin, vmax=vmax, cmap=\"pyart_HomeyerRainbow\"\n)\n\nax2.set_ylim([0, 15])\nax2.set_xlim([-50, 50])\n\n# Panel 3: latitude slice\nax3 = fig.add_axes(y_cut_panel_axes)\ndisplay.plot_latitude_slice(\n    \"REF\", lon=lon, lat=lat, ax=ax3, vmin=vmin, vmax=vmax, cmap=\"pyart_HomeyerRainbow\"\n)\nax3.set_ylim([0, 15])\nax3.set_xlim([-50, 50])\n\nplt.show()"
      ]
    }
  ],
  "metadata": {
    "kernelspec": {
      "display_name": "Python 3",
      "language": "python",
      "name": "python3"
    },
    "language_info": {
      "codemirror_mode": {
        "name": "ipython",
        "version": 3
      },
      "file_extension": ".py",
      "mimetype": "text/x-python",
      "name": "python",
      "nbconvert_exporter": "python",
      "pygments_lexer": "ipython3",
      "version": "3.12.2"
    }
  },
  "nbformat": 4,
  "nbformat_minor": 0
}