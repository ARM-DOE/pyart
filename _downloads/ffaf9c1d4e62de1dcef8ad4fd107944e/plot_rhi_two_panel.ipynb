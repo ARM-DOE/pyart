{
  "cells": [
    {
      "cell_type": "code",
      "execution_count": null,
      "metadata": {
        "collapsed": false
      },
      "outputs": [],
      "source": [
        "%matplotlib inline"
      ]
    },
    {
      "cell_type": "markdown",
      "metadata": {},
      "source": [
        "\n# Create a two panel RHI plot\n\nAn example which creates a two panel RHI plot of a Sigmet file.  The fields\nincluded in the two panels are reflectivity and doppler velocity.\n"
      ]
    },
    {
      "cell_type": "code",
      "execution_count": null,
      "metadata": {
        "collapsed": false
      },
      "outputs": [],
      "source": [
        "print(__doc__)\n\n# Author: Jonathan J. Helmus (jhelmus@anl.gov)\n# License: BSD 3 clause\n\nimport matplotlib.pyplot as plt\nimport pyart\nfrom pyart.testing import get_test_data\nimport netCDF4\n\n\n# read the data and create the display object\nfilename = get_test_data('XSW110520113537.RAW7HHL')\nradar = pyart.io.read_rsl(filename)\ndisplay = pyart.graph.RadarDisplay(radar)\n\n# fields to plot and ranges\nfields_to_plot = ['reflectivity', 'velocity']\nranges = [(-32, 64), (-17.0, 17.0)]\n\n# plot the data\nnplots = len(fields_to_plot)\nplt.figure(figsize=[5 * nplots, 4])\n\n# plot each field\nfor plot_num in range(nplots):\n    field = fields_to_plot[plot_num]\n    vmin, vmax = ranges[plot_num]\n\n    plt.subplot(1, nplots, plot_num + 1)\n    display.plot(field, 0, vmin=vmin, vmax=vmax, title_flag=False)\n    display.set_limits(ylim=[0, 17])\n\n# set the figure title and show\ninstrument_name = radar.metadata['instrument_name'].decode('utf-8')\ntime_start = netCDF4.num2date(\n    radar.time['data'][0], radar.time['units'],\n    only_use_cftime_datetimes=False, only_use_python_datetimes=True)\ntime_text = ' ' + time_start.isoformat() + 'Z'\nazimuth = radar.fixed_angle['data'][0]\ntitle = 'RHI ' + instrument_name + time_text + 'Azimuth %.2f' % (azimuth)\nplt.suptitle(title)\nplt.show()"
      ]
    }
  ],
  "metadata": {
    "kernelspec": {
      "display_name": "Python 3",
      "language": "python",
      "name": "python3"
    },
    "language_info": {
      "codemirror_mode": {
        "name": "ipython",
        "version": 3
      },
      "file_extension": ".py",
      "mimetype": "text/x-python",
      "name": "python",
      "nbconvert_exporter": "python",
      "pygments_lexer": "ipython3",
      "version": "3.10.4"
    }
  },
  "nbformat": 4,
  "nbformat_minor": 0
}