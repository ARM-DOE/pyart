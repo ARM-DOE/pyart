{
  "cells": [
    {
      "cell_type": "markdown",
      "metadata": {},
      "source": [
        "\n# Create a multiple panel RHI plot from a CF/Radial file\n\nAn example which creates a RHI plot of a CF/Radial file using\na RadarDisplay object.\n"
      ]
    },
    {
      "cell_type": "code",
      "execution_count": null,
      "metadata": {
        "collapsed": false
      },
      "outputs": [],
      "source": [
        "print(__doc__)\n\nimport matplotlib.pyplot as plt\n\nimport pyart\nfrom pyart.testing import get_test_data\n\nfilename = get_test_data(\"sgpxsaprrhicmacI5.c0.20110524.015604_NC4.nc\")\n\n# create the plot using RadarDisplay\nradar = pyart.io.read_cfradial(filename)\nradar.metadata[\"instrument_name\"] = \"XSARP\"\ndisplay = pyart.graph.RadarDisplay(radar)\n\nfig = plt.figure(figsize=[15, 5])\nfig.subplots_adjust(hspace=0.4)\nxlabel = \"Distance from radar (km)\"\nylabel = \"Distance above radar (km)\"\ncolorbar_label = \"Equivalent reflectivity factor (dBZ)\"\n# nplots = radar.nsweeps\n\nfixed_angle = radar.fixed_angle[\"data\"][0]\ntitle = \"HSRHI Az=%.3f\" % (fixed_angle)\nax = fig.add_subplot(1, 1, 1)\ndisplay.plot(\n    \"reflectivity_horizontal\",\n    0,\n    vmin=-20,\n    vmax=20,\n    mask_outside=True,\n    title=\"RHI\",\n    axislabels=(xlabel, ylabel),\n    cmap=\"pyart_HomeyerRainbow\",\n    colorbar_label=colorbar_label,\n    ax=ax,\n)\ndisplay.set_limits(ylim=[0, 15], ax=ax)\n\nplt.show()"
      ]
    }
  ],
  "metadata": {
    "kernelspec": {
      "display_name": "Python 3",
      "language": "python",
      "name": "python3"
    },
    "language_info": {
      "codemirror_mode": {
        "name": "ipython",
        "version": 3
      },
      "file_extension": ".py",
      "mimetype": "text/x-python",
      "name": "python",
      "nbconvert_exporter": "python",
      "pygments_lexer": "ipython3",
      "version": "3.12.2"
    }
  },
  "nbformat": 4,
  "nbformat_minor": 0
}