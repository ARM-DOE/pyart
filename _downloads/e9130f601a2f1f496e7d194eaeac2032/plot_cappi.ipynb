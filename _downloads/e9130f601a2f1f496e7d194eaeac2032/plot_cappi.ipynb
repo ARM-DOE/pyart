{
  "cells": [
    {
      "cell_type": "markdown",
      "metadata": {},
      "source": [
        "\n# Compare PPI vs CAPPI\n\nThis example demonstrates how to create and compare PPI (Plan Position Indicator)\nand CAPPI (Constant Altitude Plan Position Indicator) plots using radar data.\n\nIn this example, we load sample radar data, create a CAPPI at 2,000 meters\nfor the 'reflectivity' field, and then plot both the PPI and CAPPI for comparison.\n"
      ]
    },
    {
      "cell_type": "code",
      "execution_count": null,
      "metadata": {
        "collapsed": false
      },
      "outputs": [],
      "source": [
        "print(__doc__)\n\n# Author: Hamid Ali Syed (syed44@purdue.edu)\n# License: BSD 3 clause\n\nimport matplotlib.pyplot as plt\nfrom open_radar_data import DATASETS\n\nimport pyart\n\n# Load the sample radar data\nfile = DATASETS.fetch(\"RAW_NA_000_125_20080411190016\")\nradar = pyart.io.read(file)\n\n# Apply gate filtering to exclude unwanted data\ngatefilter = pyart.filters.GateFilter(radar)\ngatefilter.exclude_transition()\n\n# Create CAPPI at 2,000 meters for the 'reflectivity' field\ncappi = pyart.retrieve.create_cappi(\n    radar, fields=[\"reflectivity\"], height=2000, gatefilter=gatefilter\n)\n\n# Create RadarMapDisplay objects for both PPI and CAPPI\nradar_display = pyart.graph.RadarMapDisplay(radar)\ncappi_display = pyart.graph.RadarMapDisplay(cappi)\n\n# Plotting the PPI and CAPPI for comparison\nfig, ax = plt.subplots(1, 2, figsize=(13, 5))\n\n# Plot PPI for 'reflectivity' field\nradar_display.plot_ppi(\"reflectivity\", vmin=-10, vmax=60, ax=ax[0])\nax[0].set_title(\"PPI Reflectivity\")\n\n# Plot CAPPI for 'reflectivity' field\ncappi_display.plot_ppi(\"reflectivity\", vmin=-10, vmax=60, ax=ax[1])\nax[1].set_title(\"CAPPI Reflectivity at 2000 meters\")\n\n# Show the plots\nplt.show()"
      ]
    }
  ],
  "metadata": {
    "kernelspec": {
      "display_name": "Python 3",
      "language": "python",
      "name": "python3"
    },
    "language_info": {
      "codemirror_mode": {
        "name": "ipython",
        "version": 3
      },
      "file_extension": ".py",
      "mimetype": "text/x-python",
      "name": "python",
      "nbconvert_exporter": "python",
      "pygments_lexer": "ipython3",
      "version": "3.12.7"
    }
  },
  "nbformat": 4,
  "nbformat_minor": 0
}