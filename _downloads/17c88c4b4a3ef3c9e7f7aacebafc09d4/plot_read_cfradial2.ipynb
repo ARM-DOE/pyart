{
  "cells": [
    {
      "cell_type": "markdown",
      "metadata": {},
      "source": [
        "\n# Read and Plot Cfradial2/FM301 data Using Xradar and Py-ART\n\nAn example which uses xradar and Py-ART to read and plot Cfradial2/FM301 data.\n"
      ]
    },
    {
      "cell_type": "code",
      "execution_count": null,
      "metadata": {
        "collapsed": false
      },
      "outputs": [],
      "source": [
        "# Author: Max Grover (mgrover@anl.gov)\n# License: BSD 3 clause\n\n\nimport xarray as xr\nfrom open_radar_data import DATASETS\n\nimport pyart\n\n# Locate the test data and read in using xradar\nfilename = DATASETS.fetch(\"cfrad2.20080604_002217_000_SPOL_v36_SUR.nc\")\ntree = xr.open_datatree(filename)\n\n# Give the tree Py-ART radar methods\nradar = tree.pyart.to_radar()\n\n# Plot the Reflectivity Field (corrected_reflectivity_horizontal)\ndisplay = pyart.graph.RadarMapDisplay(radar)\ndisplay.plot_ppi(\"DBZ\", cmap=\"pyart_ChaseSpectral\", vmin=-20, vmax=70)"
      ]
    }
  ],
  "metadata": {
    "kernelspec": {
      "display_name": "Python 3",
      "language": "python",
      "name": "python3"
    },
    "language_info": {
      "codemirror_mode": {
        "name": "ipython",
        "version": 3
      },
      "file_extension": ".py",
      "mimetype": "text/x-python",
      "name": "python",
      "nbconvert_exporter": "python",
      "pygments_lexer": "ipython3",
      "version": "3.13.2"
    }
  },
  "nbformat": 4,
  "nbformat_minor": 0
}