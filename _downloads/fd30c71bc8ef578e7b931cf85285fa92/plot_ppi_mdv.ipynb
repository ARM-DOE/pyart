{
  "cells": [
    {
      "cell_type": "code",
      "execution_count": null,
      "metadata": {
        "collapsed": false
      },
      "outputs": [],
      "source": [
        "%matplotlib inline"
      ]
    },
    {
      "cell_type": "markdown",
      "metadata": {},
      "source": [
        "\n# Create a PPI plot from a MDV file\n\nAn example which creates a PPI plot of a MDV file using a RadarDisplay object.\n\n\n"
      ]
    },
    {
      "cell_type": "code",
      "execution_count": null,
      "metadata": {
        "collapsed": false
      },
      "outputs": [],
      "source": [
        "print(__doc__)\n\n# Author: Jonathan J. Helmus (jhelmus@anl.gov)\n# License: BSD 3 clause\n\nimport matplotlib.pyplot as plt\nimport pyart\nfrom pyart.testing import get_test_data\n\nfilename = get_test_data('110635.mdv')\n\n# create the plot using RadarDisplay\nradar = pyart.io.read_mdv(filename)\ndisplay = pyart.graph.RadarDisplay(radar)\nfig = plt.figure(figsize=[5, 5])\nax = fig.add_subplot(111, frameon=False)\ndisplay.plot('reflectivity', 0, vmin=-16., vmax=64,\n             mask_tuple=['normalized_coherent_power', 0.5],\n             colorbar_flag=False, title_flag=False,\n             axislabels_flag=False)\ndisplay.set_limits(ylim=[-120, 120], xlim=[-120, 120])\nfig.subplots_adjust(left=0, bottom=0, right=1, top=1, wspace=0, hspace=0)\nplt.show()"
      ]
    }
  ],
  "metadata": {
    "kernelspec": {
      "display_name": "Python 3",
      "language": "python",
      "name": "python3"
    },
    "language_info": {
      "codemirror_mode": {
        "name": "ipython",
        "version": 3
      },
      "file_extension": ".py",
      "mimetype": "text/x-python",
      "name": "python",
      "nbconvert_exporter": "python",
      "pygments_lexer": "ipython3",
      "version": "3.6.15"
    }
  },
  "nbformat": 4,
  "nbformat_minor": 0
}