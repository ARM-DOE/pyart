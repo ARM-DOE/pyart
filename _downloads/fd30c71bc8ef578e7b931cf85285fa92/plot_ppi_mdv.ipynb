{
  "cells": [
    {
      "cell_type": "markdown",
      "metadata": {},
      "source": [
        "\n# Create a PPI plot from a MDV file\n\nAn example which creates a PPI plot of a MDV file using a RadarDisplay object.\n"
      ]
    },
    {
      "cell_type": "code",
      "execution_count": null,
      "metadata": {
        "collapsed": false
      },
      "outputs": [],
      "source": [
        "print(__doc__)\n\n# Author: Jonathan J. Helmus (jhelmus@anl.gov)\n# License: BSD 3 clause\n\nimport matplotlib.pyplot as plt\n\nimport pyart\nfrom pyart.testing import get_test_data\n\nfilename = get_test_data(\"110635.mdv\")\n\n# create the plot using RadarDisplay\nradar = pyart.io.read_mdv(filename)\ndisplay = pyart.graph.RadarDisplay(radar)\nfig = plt.figure(figsize=[5, 5])\nax = fig.add_subplot(111)\ndisplay.plot(\n    \"reflectivity\", 0, vmin=-16.0, vmax=64, title=\"PPI\", cmap=\"pyart_HomeyerRainbow\"\n)\ndisplay.set_limits(ylim=[-150, 150], xlim=[-150, 150])\nplt.show()"
      ]
    }
  ],
  "metadata": {
    "kernelspec": {
      "display_name": "Python 3",
      "language": "python",
      "name": "python3"
    },
    "language_info": {
      "codemirror_mode": {
        "name": "ipython",
        "version": 3
      },
      "file_extension": ".py",
      "mimetype": "text/x-python",
      "name": "python",
      "nbconvert_exporter": "python",
      "pygments_lexer": "ipython3",
      "version": "3.12.2"
    }
  },
  "nbformat": 4,
  "nbformat_minor": 0
}