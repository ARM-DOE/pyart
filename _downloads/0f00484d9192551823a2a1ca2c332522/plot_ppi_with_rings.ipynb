{
  "cells": [
    {
      "cell_type": "code",
      "execution_count": null,
      "metadata": {
        "collapsed": false
      },
      "outputs": [],
      "source": [
        "%matplotlib inline"
      ]
    },
    {
      "cell_type": "markdown",
      "metadata": {},
      "source": [
        "\n# Create a PPI plot on a cartopy map\n\nAn example which creates a PPI plot of a file with a cartopy background\nand range rings\n"
      ]
    },
    {
      "cell_type": "code",
      "execution_count": null,
      "metadata": {
        "collapsed": false
      },
      "outputs": [],
      "source": [
        "print(__doc__)\n\n#Author: Jason Hemedinger\n#License: BSD 3 clause\n\nimport numpy as np\nimport matplotlib.pyplot as plt\nimport cartopy.crs as ccrs\nimport pyart\nfrom pyart.testing import get_test_data\n\n# Read in the file, create a RadarMapDisplay object\nfilename = get_test_data('nsaxsaprppiC1.a1.20140201.184802.nc')\nradar = pyart.io.read(filename)\ndisplay = pyart.graph.RadarMapDisplay(radar)\n\n# Setting projection and ploting the second tilt\nprojection = ccrs.LambertConformal(central_latitude=radar.latitude['data'][0],\n                                   central_longitude=radar.longitude['data'][0])\n\nfig = plt.figure(figsize=(6,6))\ndisplay.plot_ppi_map('reflectivity_horizontal', 1, vmin=-20, vmax=20,\n                     min_lon=-157.1, max_lon=-156, min_lat=71.2, max_lat=71.6,\n                     lon_lines=np.arange(-158, -154, .2), resolution='10m',\n                     lat_lines=np.arange(69, 72, .1), projection=projection,\n                     fig=fig, lat_0=radar.latitude['data'][0],\n                     lon_0=radar.longitude['data'][0])\n\n# Plot range rings at 10, 20, 30, 40km\ndisplay.plot_range_ring(10., line_style='k-')\ndisplay.plot_range_ring(20., line_style='k--')\ndisplay.plot_range_ring(30., line_style='k-')\ndisplay.plot_range_ring(40., line_style='k--')\n\n# Plot cross hairs\ndisplay.plot_line_xy(np.array([-40000.0, 40000.0]), np.array([0.0, 0.0]),\n                     line_style='k-')\ndisplay.plot_line_xy(np.array([0.0, 0.0]), np.array([-20000.0, 200000.0]),\n                     line_style='k-')\n\n# Indicate the radar location with a point\ndisplay.plot_point(radar.longitude['data'][0], radar.latitude['data'][0])\n\nplt.show()"
      ]
    }
  ],
  "metadata": {
    "kernelspec": {
      "display_name": "Python 3",
      "language": "python",
      "name": "python3"
    },
    "language_info": {
      "codemirror_mode": {
        "name": "ipython",
        "version": 3
      },
      "file_extension": ".py",
      "mimetype": "text/x-python",
      "name": "python",
      "nbconvert_exporter": "python",
      "pygments_lexer": "ipython3",
      "version": "3.10.6"
    }
  },
  "nbformat": 4,
  "nbformat_minor": 0
}