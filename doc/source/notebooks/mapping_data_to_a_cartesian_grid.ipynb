{
 "cells": [
  {
   "cell_type": "markdown",
   "metadata": {},
   "source": [
    "# Mapping Data to a Cartesian Grid"
   ]
  },
  {
   "cell_type": "code",
   "execution_count": null,
   "metadata": {},
   "outputs": [],
   "source": [
    "# In this notebook, we will show how to map data in Antenna coordinates to\n",
    "# a Cartesian grid using Py-ART's map submodule."
   ]
  },
  {
   "cell_type": "code",
   "execution_count": null,
   "metadata": {},
   "outputs": [],
   "source": [
    "# First import needed modules\n",
    "import matplotlib.pyplot as plt\n",
    "import numpy as np\n",
    "import pyart"
   ]
  },
  {
   "cell_type": "code",
   "execution_count": null,
   "metadata": {},
   "outputs": [],
   "source": [
    "# Read the data that is in antenna coordinates.\n",
    "radar = pyart.io.read(\"110635.mdv\")"
   ]
  },
  {
   "cell_type": "code",
   "execution_count": null,
   "metadata": {},
   "outputs": [],
   "source": [
    "# Py-ART has the Grid object which has characteristics that are similar to that of the\n",
    "# Radar object, except that the data are stored in Cartesian coordinates instead of the\n",
    "# radar's coordinates. Much like the Radar object, the fields are accessible by simply\n",
    "# accessing grid.fields['field_name']['data'], and the object contains parameters such as the\n",
    "# radar's location and projection."
   ]
  },
  {
   "cell_type": "code",
   "execution_count": null,
   "metadata": {},
   "outputs": [],
   "source": [
    "# We can create a Grid object from a Radar object by using pyart.map.grid_from_radars()\n",
    "# Grid shape is the amount of points within a dimension. Grid limits is the dimension limits\n",
    "# in meters.\n",
    "grid = pyart.map.grid_from_radars(\n",
    "    radar,\n",
    "    grid_shape=(41, 201, 201),\n",
    "    grid_limits=(\n",
    "        (\n",
    "            0.0,\n",
    "            20000,\n",
    "        ),\n",
    "        (-100000.0, 100000.0),\n",
    "        (-100000, 100000.0),\n",
    "    ),\n",
    ")"
   ]
  },
  {
   "cell_type": "code",
   "execution_count": null,
   "metadata": {},
   "outputs": [],
   "source": [
    "# If with look at the coordinate data, we can see we have 201 points between\n",
    "# -100000 and 100000 meters.\n",
    "grid.x[\"data\"]"
   ]
  },
  {
   "cell_type": "code",
   "execution_count": null,
   "metadata": {},
   "outputs": [],
   "source": [
    "# In Py-ART's graphing suite, there is a display class similar to RadarMapDisplay,\n",
    "# but for grids. To plot the grid:\n",
    "fig = plt.figure(figsize=[8, 8])\n",
    "display = pyart.graph.GridMapDisplay(grid)\n",
    "display.plot_grid(\"reflectivity\", level=3, vmin=-20, vmax=60)"
   ]
  },
  {
   "cell_type": "code",
   "execution_count": null,
   "metadata": {},
   "outputs": [],
   "source": [
    "# We can even do both longitudnal and latitudnal slices. Change the lat parameter to view\n",
    "# different portions of the storm!\n",
    "display.plot_latitude_slice(\"reflectivity\", lat=36.75, vmin=0, vmax=60)\n",
    "plt.xlim([-50, 50])"
   ]
  },
  {
   "cell_type": "code",
   "execution_count": null,
   "metadata": {},
   "outputs": [],
   "source": [
    "# As you can see, this Grid suffers from gaps in data as well as artificial \"feathers\" near the\n",
    "# top that are simply the result of projecting the data to Cartesian coordinates. We would like\n",
    "# to eliminate these as much as possible. Thankfully, Py-ART let's us, on top of specifying the grid\n",
    "# resolution, also place in a custom radius of influence which controls how many points surrounding\n",
    "# the gate are factored into the interpolation. We can also change the weighting function used to\n",
    "#'nearest neighbor', 'barnes' or 'cressman'. Let's try increasing the minimum radius of influence to 1.75 km\n",
    "# and use Cressman as the weighting function.\n",
    "grid_better = pyart.map.grid_from_radars(\n",
    "    radar,\n",
    "    grid_shape=(41, 201, 201),\n",
    "    grid_limits=(\n",
    "        (\n",
    "            0.0,\n",
    "            20000,\n",
    "        ),\n",
    "        (-100000.0, 100000.0),\n",
    "        (-100000, 100000.0),\n",
    "    ),\n",
    "    roi_func=\"dist_beam\",\n",
    "    min_radius=1750.0,\n",
    "    weighting_function=\"cressman\",\n",
    ")"
   ]
  },
  {
   "cell_type": "code",
   "execution_count": null,
   "metadata": {},
   "outputs": [],
   "source": [
    "# As you can see, most of the artifacts at higher altitudes have been smoothed out, but we\n",
    "# have lost some spatial resolution as a result.\n",
    "display = pyart.graph.GridMapDisplay(grid_better)\n",
    "display.plot_latitude_slice(\"reflectivity\", lat=36.75, vmin=0, vmax=60)\n",
    "plt.xlim([-50, 50])"
   ]
  }
 ],
 "metadata": {
  "kernelspec": {
   "display_name": "Python 3",
   "language": "python",
   "name": "python3"
  },
  "language_info": {
   "codemirror_mode": {
    "name": "ipython",
    "version": 3
   },
   "file_extension": ".py",
   "mimetype": "text/x-python",
   "name": "python",
   "nbconvert_exporter": "python",
   "pygments_lexer": "ipython3",
   "version": "3.8.2"
  }
 },
 "nbformat": 4,
 "nbformat_minor": 4
}
