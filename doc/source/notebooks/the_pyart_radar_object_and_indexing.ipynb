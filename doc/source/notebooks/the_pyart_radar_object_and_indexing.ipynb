{
 "cells": [
  {
   "cell_type": "markdown",
   "metadata": {},
   "source": [
    "# The Py-ART Radar object and indexing"
   ]
  },
  {
   "cell_type": "code",
   "execution_count": null,
   "metadata": {},
   "outputs": [],
   "source": [
    "# The Py-ART radar object has functions and attributes that allow for a more\n",
    "# in depth look of the data and the radar object."
   ]
  },
  {
   "cell_type": "code",
   "execution_count": null,
   "metadata": {},
   "outputs": [],
   "source": [
    "# Import needed modules\n",
    "import numpy as np\n",
    "import pyart"
   ]
  },
  {
   "cell_type": "code",
   "execution_count": null,
   "metadata": {},
   "outputs": [],
   "source": [
    "# Load the radar file\n",
    "radar = pyart.io.read(\"KATX20130717_195021_V06\")"
   ]
  },
  {
   "cell_type": "code",
   "execution_count": null,
   "metadata": {},
   "outputs": [],
   "source": [
    "# For a detailed print of the Py-ART radar object, use radar.info()\n",
    "radar.info()"
   ]
  },
  {
   "cell_type": "code",
   "execution_count": null,
   "metadata": {},
   "outputs": [],
   "source": [
    "# Let's view the elevation parameter. Py-ART stores all fields as 2D masked arrays\n",
    "# of dimensions (number of rays) x (number of gates). Therefore, as the elevation can change with\n",
    "# each ray, the data in the elevation array is a 1D array of dimension (number of rays)\n",
    "radar.elevation"
   ]
  },
  {
   "cell_type": "code",
   "execution_count": null,
   "metadata": {},
   "outputs": [],
   "source": [
    "# If we just want the elevations of one sweep, we can use the get_slice() function\n",
    "# of the Radar object to just get the elevations from one slice.\n",
    "sweep_1 = radar.get_slice(1)\n",
    "print(radar.elevation[\"data\"][sweep_1])"
   ]
  },
  {
   "cell_type": "code",
   "execution_count": null,
   "metadata": {},
   "outputs": [],
   "source": [
    "# All of the radar fields are stored in a dictionary called radar.fields. This dictionary\n",
    "# contains entries that correspond to the field names in the file.\n",
    "radar.fields[\"reflectivity\"]"
   ]
  },
  {
   "cell_type": "code",
   "execution_count": null,
   "metadata": {},
   "outputs": [],
   "source": [
    "# This shows entries such as the data itself, coordinates, long name, and units. You can\n",
    "# access the array with the reflectivity data itself using radar.fields['reflectivity']['data'].\n",
    "# This is stored as a 2D masked array with dimensions (number of rays) x (number of gates)\n",
    "radar.fields[\"reflectivity\"][\"data\"]"
   ]
  },
  {
   "cell_type": "code",
   "execution_count": null,
   "metadata": {},
   "outputs": [],
   "source": [
    "# If you just want the data from one slice, you can get the indicies for the\n",
    "# slice using radar.get_slice()\n",
    "slice_indices = radar.get_slice(0)\n",
    "print(radar.fields[\"reflectivity\"][\"data\"][slice_indices])"
   ]
  },
  {
   "cell_type": "code",
   "execution_count": null,
   "metadata": {},
   "outputs": [],
   "source": [
    "# You can also iterate over each slice by using radar.iter_slice() This example\n",
    "# returns the mean reflectivity of each sweep.\n",
    "reflectivity = [\n",
    "    radar.fields[\"reflectivity\"][\"data\"][x].mean() for x in radar.iter_slice()\n",
    "]\n",
    "print(reflectivity)"
   ]
  },
  {
   "cell_type": "code",
   "execution_count": null,
   "metadata": {},
   "outputs": [],
   "source": [
    "# You can also view the important radar instrument parameters. One commonly used parameter\n",
    "# is the nyquist velocity, which is the maximum magnitude of the velocity the radar is\n",
    "# capable of recording before a phenomena known as aliasing occurs.\n",
    "radar.instrument_parameters[\"nyquist_velocity\"][\"data\"]"
   ]
  }
 ],
 "metadata": {
  "kernelspec": {
   "display_name": "Python 3",
   "language": "python",
   "name": "python3"
  },
  "language_info": {
   "codemirror_mode": {
    "name": "ipython",
    "version": 3
   },
   "file_extension": ".py",
   "mimetype": "text/x-python",
   "name": "python",
   "nbconvert_exporter": "python",
   "pygments_lexer": "ipython3",
   "version": "3.8.2"
  }
 },
 "nbformat": 4,
 "nbformat_minor": 4
}
