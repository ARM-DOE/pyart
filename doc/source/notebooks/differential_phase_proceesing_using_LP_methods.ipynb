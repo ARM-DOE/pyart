{
 "metadata": {
  "name": "Differential Phase processing using LP Methods-application"
 },
 "nbformat": 3,
 "nbformat_minor": 0,
 "worksheets": [
  {
   "cells": [
    {
     "cell_type": "markdown",
     "metadata": {},
     "source": [
      "<center>\n",
      "![picture alt](http://www.arm.gov/images/template/logo.png \"Title is optional\")\n",
      "#Using linear programming to do phase processing#\n",
      "Scott Collis\n",
      "\n",
      "ARM Precipitation Sensitive Radar Translator\n",
      "\n",
      "_Argonne National Laboratory, Argonne, IL_\n",
      "\n",
      "Scott Giangrande\n",
      "\n",
      "Meteorologist\n",
      "\n",
      "_Brookhaven National Laboratory, Brookhaven, NY_\n",
      "\n",
      "    \n"
     ]
    },
    {
     "cell_type": "markdown",
     "metadata": {},
     "source": [
      "Import system libraries and append py-art path. import pyart"
     ]
    },
    {
     "cell_type": "code",
     "collapsed": false,
     "input": [
      "basedir='/Users/scollis/local_modules/'\n",
      "import sys\n",
      "sys.path.append(basedir)\n",
      "from pyart.io import py_mdv, radar\n",
      "from pyart.correct import cband\n",
      "from time import time\n",
      "from itertools import groupby\n",
      "import scipy.integrate\n",
      "from scipy.interpolate import interp1d\n",
      "from pyart.graph import rayplot, radar_display\n",
      "from pyart.correct import phase_proc\n",
      "import copy\n",
      "import numpy as np\n",
      "import pylab\n",
      "import glpk "
     ],
     "language": "python",
     "metadata": {},
     "outputs": [],
     "prompt_number": null
    },
    {
     "cell_type": "code",
     "collapsed": false,
     "input": [
      "reload(radar)"
     ],
     "language": "python",
     "metadata": {},
     "outputs": [],
     "prompt_number": null
    },
    {
     "cell_type": "markdown",
     "metadata": {},
     "source": [
      "Read in the MDV file"
     ]
    },
    {
     "cell_type": "code",
     "collapsed": false,
     "input": [
      "#sample_file_name='/data/sample_sapr_data/235545.mdv'\n",
      "el,az=(1,241)\n",
      "sample_file_name='/data/095636.mdv'\n",
      "my_mdv_object=py_mdv.read_mdv(sample_file_name, debug=True)"
     ],
     "language": "python",
     "metadata": {},
     "outputs": [],
     "prompt_number": null
    },
    {
     "cell_type": "markdown",
     "metadata": {},
     "source": [
      "Now we convert the Py-MDV object to a Py-Radar object. This will help keep the code generic."
     ]
    },
    {
     "cell_type": "code",
     "collapsed": false,
     "input": [
      "myradar=radar.Radar(my_mdv_object)\n"
     ],
     "language": "python",
     "metadata": {},
     "outputs": [],
     "prompt_number": null
    },
    {
     "cell_type": "markdown",
     "metadata": {},
     "source": [
      "Unfold phase.. Note the deepcopy otherwise it is a link and not a independant copy"
     ]
    },
    {
     "cell_type": "code",
     "collapsed": false,
     "input": [
      "min_phidp=0.01; min_ncp=0.5; min_rhv=0.8; fzl=4000.0\n",
      "my_unf=phase_proc.get_phidp_unf(myradar, ncp_lev=0.5, rhohv_lev=0.7, ncpts=2, doc=None) \n",
      "#No docking the end of the coverage. This comes later\n",
      "my_new_ph=copy.deepcopy(myradar.fields['dp_phase_shift'])\n",
      "my_unf[:,-1]=my_unf[:,-2]\n",
      "my_new_ph['data']=my_unf\n",
      "myradar.fields.update({'unf_dp_phase_shift':my_new_ph})"
     ],
     "language": "python",
     "metadata": {},
     "outputs": [],
     "prompt_number": null
    },
    {
     "cell_type": "markdown",
     "metadata": {},
     "source": [
      "Now we create some conditional fields which will be used in the construction of the constraints"
     ]
    },
    {
     "cell_type": "code",
     "collapsed": false,
     "input": [
      "is_low_z=myradar.fields['reflectivity_horizontal']['data'] <10.0\n",
      "is_high_z=myradar.fields['reflectivity_horizontal']['data'] >53.0\n",
      "z_mod=copy.deepcopy(myradar.fields['reflectivity_horizontal']['data'])\n",
      "z_mod[np.where(is_high_z)]=53.0\n",
      "z_mod[np.where(is_low_z)]=10.0\n",
      "#z_mod=z_mod\n",
      "not_coherent=myradar.fields['norm_coherent_power']['data'] < min_ncp\n",
      "not_correlated=myradar.fields['copol_coeff']['data'] < min_rhv\n",
      "phidp_mod=copy.deepcopy(myradar.fields['unf_dp_phase_shift']['data'])\n",
      "phidp_neg=phidp_mod < min_phidp\n",
      "phidp_mod[np.where(phidp_neg)]=min_phidp\n",
      "phidp_mod=phidp_mod"
     ],
     "language": "python",
     "metadata": {},
     "outputs": [],
     "prompt_number": null
    },
    {
     "cell_type": "markdown",
     "metadata": {},
     "source": [
      "Ok, What do we want here? We have the A matrix which is the block matrix given by:\n",
      "$$\\bf{A}=\\begin{bmatrix} \\bf{I} & \\bf{-I} \\\\\\\\ \\bf{-I}& \\bf{I} \\\\\\\\ \\bf{Z} & \\bf{M} \\end{bmatrix} $$\n",
      "where $\\bf{I}$ is the identity matrix, $\\bf{Z}$ is a matrix of zeros and $\\bf{M}$ contains our differential constraints. Each block is of shape n_gates by n_gates making shape($\\bf{A}$)=(3*n, 2*n).\n",
      "\n",
      "Note that $\\bf{M}$ contains some side padding to deal with edge issues\n"
     ]
    },
    {
     "cell_type": "code",
     "collapsed": false,
     "input": [
      "def construct_A_matrix(radar):\n",
      "    n_gates=len(radar.range['data'])\n",
      "    Identity=eye(n_gates)\n",
      "    St_Gorlv_differential_5pts=[-.2, -.1, 0, .1, .2]\n",
      "    filt=St_Gorlv_differential_5pts\n",
      "    filter_length=len(filt)\n",
      "    M_matrix_middle=np.diag(ones(n_gates-filter_length+1), k=0)*0.0\n",
      "    posn=np.linspace(-1.0*(filter_length-1)/2, (filter_length-1)/2, filter_length)\n",
      "    for diag in range(filter_length):\n",
      "        M_matrix_middle=M_matrix_middle+np.diag(ones(n_gates-filter_length+1 - np.abs(posn[diag])), k=posn[diag])*filt[diag]\n",
      "    side_pad=(filter_length-1)/2\n",
      "    M_matrix=np.bmat([np.zeros([n_gates-filter_length+1, side_pad], dtype=float),\n",
      "        M_matrix_middle, \n",
      "        np.zeros([n_gates-filter_length+1, side_pad], dtype=float)])\n",
      "    Z_matrix=zeros([n_gates-filter_length+1, n_gates])\n",
      "    return np.bmat([[Identity, -1.0*Identity], [Identity, Identity], [Z_matrix, M_matrix]])"
     ],
     "language": "python",
     "metadata": {},
     "outputs": [],
     "prompt_number": null
    },
    {
     "cell_type": "code",
     "collapsed": false,
     "input": [
      "A_Matrix=construct_A_matrix(myradar)\n",
      "print A_Matrix.shape\n",
      "print (A_Matrix.shape[0]/float(len(myradar.range['data'])), A_Matrix.shape[1]/float(len(myradar.range['data'])))\n"
     ],
     "language": "python",
     "metadata": {},
     "outputs": [],
     "prompt_number": null
    },
    {
     "cell_type": "markdown",
     "metadata": {},
     "source": [
      "Ok, now is where we have to get clever. $\\bf{A}$ is constant for the radar (the radar object pads gates with _Fill_Value, making the time-range array rectangular). But the B vector of the objective constraints is not as it contains reflectivity info. Now we want to use Scientific Python array based processing to take advantage of the optimized code backend.\n",
      "The B vector is the negatibe and positive modified unfolded $\\phi_{DP}$ and the self consistency constraint which uses converts $Z$ to $K_{DP}$ and integrates to give a $\\phi_{DP}$ like field. \n",
      "\n",
      "$\\bf{B}=\\begin{bmatrix} -\\bf{\\phi_{DP}} \\\\\\\\ \\bf{\\phi_{DP}} \\\\\\\\ \\bf{\\eta} \\end{bmatrix}$\n",
      "\n",
      "Now we want to array-ize this effectively making $\\bf{B}$ a matrix consiting of:\n",
      "\n",
      "$\\bf{B_{mat}}=\\begin{bmatrix} -\\bf{\\phi_{DP}^{(1)}} & \\cdots & -\\bf{\\phi_{DP}^{(n)}} \\\\\\\\ \\bf{\\phi_{DP}^{(1)}} & \\cdots & \\bf{\\phi_{DP}^{(n)}} \\\\\\\\ \\bf{\\eta}^{(1)} & \\cdots & \\bf{\\eta}^{(n)} \\end{bmatrix}$\n",
      "\n",
      " where n is the number of rays. "
     ]
    },
    {
     "cell_type": "code",
     "collapsed": false,
     "input": [
      "St_Gorlv_differential_5pts=[-.2, -.1, 0, .1, .2]\n",
      "filt=St_Gorlv_differential_5pts\n",
      "n_gates=len(myradar.range['data'])\n",
      "n_rays=phidp_mod.shape[0]\n",
      "filter_length=len(filt)\n",
      "side_pad=(filter_length-1)/2\n",
      "print \"Side pad: \", side_pad\n",
      "top_of_B_vectors=np.bmat([[-phidp_mod,phidp_mod]])\n",
      "print top_of_B_vectors.shape, phidp_mod.shape, 360.0*17.0\n",
      "data_edges=np.bmat([phidp_mod[:, 0:side_pad], np.zeros([n_rays, n_gates-filter_length+1]), phidp_mod[:,-side_pad:]])\n",
      "print data_edges.shape\n",
      "ii=filter_length-1\n",
      "jj=data_edges.shape[1]-1\n",
      "list_corrl=np.zeros([n_rays, jj-ii+1])\n",
      "print len(list_corrl)\n",
      "for count in range(list_corrl.shape[1]):\n",
      "    list_corrl[:, count]= -1.0*(array(filt)*(np.asarray(data_edges))[:, count:count+ii+1]).sum(axis=1)\n",
      "print list_corrl.shape\n",
      "\n",
      "#list_corrl=np.zeros(jj-ii+1)\n",
      "#for count in range(len(list_corrl)):\n",
      "#    list_corrl[count]= -1.0*(array(SG_df5)*np.squeeze(np.asarray(data_edges))[count:count+ii+1]).sum()\n"
     ],
     "language": "python",
     "metadata": {},
     "outputs": [],
     "prompt_number": null
    },
    {
     "cell_type": "markdown",
     "metadata": {},
     "source": [
      "Now for the self consistency constraint.. We are going want a gradient in $\\phi_{DP}$ consistent with $Z_{dB}$ according to:\n",
      "\n",
      "$\\eta=\\frac{(10^{0.1*Z_{dB}})^{0.914}}{w}$\n",
      "\n",
      "where $w$ is the (inverse) weight, and is determined by trail and error, and in our case is set to 50,000 "
     ]
    },
    {
     "cell_type": "code",
     "collapsed": false,
     "input": [
      "sct=(((10.0**(0.1*z_mod))**0.914)/60000.0)[:, side_pad:-side_pad]\n",
      "sct[np.where(sct <0.0)]=0.0\n",
      "sct[:, 0:side_pad]=list_corrl[:, 0:side_pad]\n",
      "sct[:, -side_pad:]=list_corrl[:, -side_pad:]\n",
      "print top_of_B_vectors.shape\n",
      "print sct.shape\n",
      "B_vectors=np.bmat([[top_of_B_vectors,sct]])\n",
      "print B_vectors.shape\n",
      "print A_Matrix.shape\n"
     ],
     "language": "python",
     "metadata": {},
     "outputs": [],
     "prompt_number": null
    },
    {
     "cell_type": "code",
     "collapsed": false,
     "input": [
      "weights=np.zeros(my_new_ph['data'].shape)\n",
      "phidp_neg=my_new_ph['data'] <min_phidp\n",
      "my_new_ph['data'][np.where(phidp_neg)]=min_phidp\n",
      "#not_coh=my_ncp[el,az, 0:fzl_e] < min_ncp\n",
      "#not_cor=my_rhv[el,az, 0:fzl_e] < min_rhv\n",
      "#need to impliment these up to the FZL\n",
      "is_garbage=np.logical_or( not_coherent, not_correlated)\n",
      "m=np.where(is_garbage)\n",
      "weights[m]=1.0\n",
      "print weights.shape\n",
      "nw=np.bmat([weights, np.zeros(weights.shape)])\n",
      "print nw.shape, B_vectors.shape, A_Matrix.shape"
     ],
     "language": "python",
     "metadata": {},
     "outputs": [],
     "prompt_number": null
    },
    {
     "cell_type": "code",
     "collapsed": false,
     "input": [
      "raynum=330\n",
      "mysoln=zeros(phidp_mod.shape)\n",
      "\n",
      "from time import time\n",
      "import glpk\n",
      "           # Import the GLPK module\n",
      "t0=time()\n",
      "lp = glpk.LPX()        # Create empty problem instance\n",
      "lp.name = 'LP_MIN'     # Assign symbolic name to problem\n",
      "lp.obj.maximize = False # Set this as a maximization problem\n",
      "#lp.rows.add(2*n)         # Append rows \n",
      "lp.rows.add(2*n_gates+n_gates-4)# Append rows \n",
      "lp.cols.add(2*n_gates)\n",
      "\n",
      "glpk.env.term_on = True\n",
      "\n",
      "for cur_row in range(2*n_gates+n_gates-4):\n",
      "    lp.rows[cur_row].matrix=list(np.squeeze(np.asarray(A_Matrix[cur_row, :])))\n",
      "for i in range(2*n_gates):\n",
      "    lp.cols[i].bounds = 0.0, None\n",
      "\n",
      "for raynum in range(360):\n",
      "    this_soln=zeros(phidp_mod.shape[1])\n",
      "    #print \"Doing\", raynum\n",
      "    for i in range(2*n_gates+n_gates-4):\n",
      "        lp.rows[i].bounds = B_vectors[raynum, i], None\n",
      "    for i in range(2*n_gates):\n",
      "        #lp.cols[i].bounds = 0.0, None\n",
      "        lp.obj[i]=nw[raynum,i]\n",
      "    lp.simplex(msg_lev=glpk.LPX.MSG_ON, meth=glpk.LPX.PRIMAL, it_lim=7000, presolve=True)\n",
      "    for i in range(n_gates):\n",
      "        this_soln[i]=lp.cols[i+n_gates].primal\n",
      "    mysoln[raynum, :]=cband.smooth_and_trim(this_soln, window_len=5, window='sg_smooth')\n",
      "\n",
      "\n"
     ],
     "language": "python",
     "metadata": {},
     "outputs": [],
     "prompt_number": null
    },
    {
     "cell_type": "code",
     "collapsed": false,
     "input": [
      "proc_ph=copy.deepcopy(myradar.fields['dp_phase_shift'])\n",
      "proc_ph['data']=mysoln\n",
      "proc_ph['valid_min']=0.0\n",
      "proc_ph['valid_max']=400.0\n",
      "\n",
      "myradar.fields.update({'proc_dp_phase_shift':proc_ph})\n",
      "kdp=zeros(mysoln.shape)\n",
      "for i in range(mysoln.shape[0]):\n",
      "    kdp[i,:]=cband.sobel(mysoln[i, :], window_len=35)/((myradar.range['data'][1]-myradar.range['data'][0])/1000.0)\n",
      "\n",
      "sob_kdp=copy.deepcopy(myradar.fields['diff_phase'])\n",
      "sob_kdp['data']=kdp\n",
      "sob_kdp['valid_min']=0.0\n",
      "sob_kdp['valid_max']=20.0\n",
      "\n",
      "myradar.fields.update({'recalculated_diff_phase':sob_kdp})\n"
     ],
     "language": "python",
     "metadata": {},
     "outputs": [],
     "prompt_number": null
    },
    {
     "cell_type": "code",
     "collapsed": false,
     "input": [
      "d_az,d_el=190,0\n",
      "f=figure(figsize=[10,5])\n",
      "plot(myradar.fields['proc_dp_phase_shift']['data'][d_az+360*d_el, :],'b-',label='LP')\n",
      "plot(myradar.fields['unf_dp_phase_shift']['data'][d_az+360*d_el, :],'g-', label='raw')\n",
      "ylim([0,290])\n",
      "twinx()\n",
      "#plot(z_mod, 'r-', label='z')\n",
      "#xlim([500,1000])\n",
      "#cband.KDP(mysoln, my_mdv_object.range_km[1]-my_mdv_object.range_km[0], 30)\n",
      "plot(myradar.fields['recalculated_diff_phase']['data'][d_az+360*d_el, :], 'r-')\n",
      "#plot(z_mod/10)\n",
      "gca().yaxis.grid(color='gray', linestyle='dashed')\n",
      "f=figure()\n"
     ],
     "language": "python",
     "metadata": {},
     "outputs": [],
     "prompt_number": null
    },
    {
     "cell_type": "code",
     "collapsed": false,
     "input": [
      "my_display=radar_display.radar_display(myradar)\n",
      "f=figure(figsize=[15,5])\n",
      "subplot(1,2,1)\n",
      "my_display.plot_ppi('proc_dp_phase_shift', 0)\n",
      "my_display.append_x()\n",
      "my_display.append_y()\n",
      "gca().set_title(my_display.generate_title('proc_dp_phase_shift', 0))\n",
      "my_display.add_cb()\n",
      "subplot(1,2,2)\n",
      "my_display.plot_ppi('recalculated_diff_phase', 0)\n",
      "gca().set_title(my_display.generate_title('recalculated_diff_phase', 0))\n",
      "my_display.append_x()\n",
      "my_display.add_cb()"
     ],
     "language": "python",
     "metadata": {},
     "outputs": [],
     "prompt_number": null
    },
    {
     "cell_type": "code",
     "collapsed": false,
     "input": [
      "reload(rayplot)\n",
      "myrayplot=rayplot.rayplot(myradar, figsize=[15,15])\n",
      "myrayplot([0,190],myradar.fields.keys())\n",
      "myrayplot.fig.subplots_adjust(wspace=1.0)"
     ],
     "language": "python",
     "metadata": {},
     "outputs": [],
     "prompt_number": null
    },
    {
     "cell_type": "code",
     "collapsed": false,
     "input": [],
     "language": "python",
     "metadata": {},
     "outputs": [],
     "prompt_number": null
    }
   ],
   "metadata": {}
  }
 ]
}
