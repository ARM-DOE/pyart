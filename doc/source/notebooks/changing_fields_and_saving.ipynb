{
 "cells": [
  {
   "cell_type": "markdown",
   "metadata": {},
   "source": [
    "# Field manipulation and Saving the Radar Object to a file."
   ]
  },
  {
   "cell_type": "code",
   "execution_count": null,
   "metadata": {},
   "outputs": [],
   "source": [
    "# In this notebook we will go over the basics of how to change the data inside a\n",
    "# radar file and save a new radar file. We will do this by creating a new field\n",
    "# that stores a reflectivity mask."
   ]
  },
  {
   "cell_type": "code",
   "execution_count": null,
   "metadata": {},
   "outputs": [],
   "source": [
    "# Import needed modules.\n",
    "import cartopy.crs as ccrs\n",
    "import matplotlib.pyplot as plt\n",
    "import numpy as np\n",
    "import pyart"
   ]
  },
  {
   "cell_type": "code",
   "execution_count": null,
   "metadata": {},
   "outputs": [],
   "source": [
    "# Read the radar data.\n",
    "radar = pyart.io.read(\"sgpcsaprsurcmacI7.c0.20110520.095101.nc\")"
   ]
  },
  {
   "cell_type": "code",
   "execution_count": null,
   "metadata": {},
   "outputs": [],
   "source": [
    "# Store the radar field into a variable.\n",
    "ref_field = radar.fields[\"reflectivity_horizontal\"][\"data\"].copy()"
   ]
  },
  {
   "cell_type": "code",
   "execution_count": null,
   "metadata": {},
   "outputs": [],
   "source": [
    "# To create an array that is zero when the condition is false and one when it is true, we\n",
    "# can make use of the np.ma.where command.\n",
    "ref_gt_0 = np.ma.where(ref_field > 0, 1, 0)\n",
    "print(ref_gt_0)"
   ]
  },
  {
   "cell_type": "code",
   "execution_count": null,
   "metadata": {},
   "outputs": [],
   "source": [
    "# To create a new field, we need to create a dictionary with keys containing the data,\n",
    "# the long name, the units, the fill value, and the standard name.\n",
    "mask_dict = {\n",
    "    \"data\": ref_gt_0,\n",
    "    \"units\": \"0 = Z < 0, 1 = Z >= 0\",\n",
    "    \"long_name\": \"reflectivity_mask\",\n",
    "    \"_FillValue\": ref_gt_0.fill_value,\n",
    "    \"standard_name\": \"reflectivity_mask\",\n",
    "}"
   ]
  },
  {
   "cell_type": "code",
   "execution_count": null,
   "metadata": {},
   "outputs": [],
   "source": [
    "# Adding this field into the radar object using radar.add_field()\n",
    "radar.add_field(\"reflectivity_mask\", mask_dict, replace_existing=True)"
   ]
  },
  {
   "cell_type": "code",
   "execution_count": null,
   "metadata": {},
   "outputs": [],
   "source": [
    "# Plot the data using RadarMapDisplay\n",
    "plt.figure(figsize=[12, 8])\n",
    "projection = ccrs.LambertConformal(\n",
    "    central_latitude=radar.latitude[\"data\"][0],\n",
    "    central_longitude=radar.longitude[\"data\"][0],\n",
    ")\n",
    "display = pyart.graph.RadarMapDisplay(radar)\n",
    "display.plot_ppi_map(\n",
    "    \"reflectivity_mask\", projection=projection, cmap=\"coolwarm\", vmin=0, vmax=1\n",
    ")"
   ]
  },
  {
   "cell_type": "code",
   "execution_count": null,
   "metadata": {},
   "outputs": [],
   "source": [
    "# Writing this radar object to a new file is as simple as using pyart.io.write_cfradial()\n",
    "pyart.io.write_cfradial(\"new_radar.nc\", radar)"
   ]
  }
 ],
 "metadata": {
  "kernelspec": {
   "display_name": "Python 3",
   "language": "python",
   "name": "python3"
  },
  "language_info": {
   "codemirror_mode": {
    "name": "ipython",
    "version": 3
   },
   "file_extension": ".py",
   "mimetype": "text/x-python",
   "name": "python",
   "nbconvert_exporter": "python",
   "pygments_lexer": "ipython3",
   "version": "3.8.2"
  }
 },
 "nbformat": 4,
 "nbformat_minor": 4
}
