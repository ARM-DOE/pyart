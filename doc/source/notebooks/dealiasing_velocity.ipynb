{
 "cells": [
  {
   "cell_type": "markdown",
   "metadata": {},
   "source": [
    "# Dealiasing Velocity"
   ]
  },
  {
   "cell_type": "code",
   "execution_count": null,
   "metadata": {},
   "outputs": [],
   "source": [
    "# The radial velocity measured by the radar is measured by detecting the phase shift between the\n",
    "# transmitted pulse and the pulse received by the radar. However, using this methodology, it is\n",
    "# only possible to detect phase shifts within +- 2pi due to the periodicity of the transmitted wave.\n",
    "# Therefore, for example, a phase shift of 3pi would erroneously be detected as a phase shift of -pi\n",
    "# and give an incorrect value of velocity when retrieved by the radar. This phenomena is called aliasing.\n",
    "# The maximium unambious velocity that can be detected by the radar before aliasing occurs is called\n",
    "# the Nyquist velocity."
   ]
  },
  {
   "cell_type": "code",
   "execution_count": null,
   "metadata": {},
   "outputs": [],
   "source": [
    "# First import needed modules.\n",
    "import cartopy.crs as ccrs\n",
    "import matplotlib.pyplot as plt\n",
    "import numpy as np\n",
    "import pyart"
   ]
  },
  {
   "cell_type": "code",
   "execution_count": null,
   "metadata": {},
   "outputs": [],
   "source": [
    "# Read the radar data."
   ]
  },
  {
   "cell_type": "code",
   "execution_count": null,
   "metadata": {},
   "outputs": [],
   "source": [
    "radar = pyart.io.read(\"095636.mdv\")"
   ]
  },
  {
   "cell_type": "code",
   "execution_count": null,
   "metadata": {},
   "outputs": [],
   "source": [
    "fig = plt.figure(figsize=[8, 16])\n",
    "ax = plt.subplot(2, 1, 1, projection=ccrs.PlateCarree())\n",
    "display = pyart.graph.RadarMapDisplay(radar)\n",
    "display.plot_ppi_map(\n",
    "    \"reflectivity\",\n",
    "    sweep=2,\n",
    "    resolution=\"50m\",\n",
    "    vmin=0,\n",
    "    vmax=60,\n",
    "    projection=ccrs.PlateCarree(),\n",
    ")\n",
    "\n",
    "ax2 = plt.subplot(2, 1, 2, projection=ccrs.PlateCarree())\n",
    "display = pyart.graph.RadarMapDisplay(radar)\n",
    "display.plot_ppi_map(\n",
    "    \"velocity\",\n",
    "    sweep=2,\n",
    "    resolution=\"50m\",\n",
    "    vmin=-15,\n",
    "    vmax=15,\n",
    "    projection=ccrs.PlateCarree(),\n",
    "    cmap=\"pyart_balance\",\n",
    ")\n",
    "plt.show()"
   ]
  },
  {
   "cell_type": "code",
   "execution_count": null,
   "metadata": {},
   "outputs": [],
   "source": [
    "# First, for dealiasing to work efficiently, we need to use a GateFilter. Looks like, and we need to\n",
    "# do some preprocessing on the data to remove noise and clutter. Thankfully, Py-ART gives us the\n",
    "# capability to do this. As a simple filter in this example, we will first calculate the velocity texture\n",
    "# using Py-ART's calculate_velocity_texture function. The velocity texture is the standard deviation of\n",
    "# velocity surrounding a gate. This will be higher in the presence of noise."
   ]
  },
  {
   "cell_type": "code",
   "execution_count": null,
   "metadata": {},
   "outputs": [],
   "source": [
    "radar.instrument_parameters[\"nyquist_velocity\"][\"data\"]"
   ]
  },
  {
   "cell_type": "code",
   "execution_count": null,
   "metadata": {},
   "outputs": [],
   "source": [
    "# Set the nyquist to what we see in the instrument parameter above.\n",
    "# Calculate the velocity texture\n",
    "vel_texture = pyart.retrieve.calculate_velocity_texture(\n",
    "    radar, vel_field=\"velocity\", wind_size=3, nyq=16.524973\n",
    ")\n",
    "radar.add_field(\"velocity_texture\", vel_texture, replace_existing=True)"
   ]
  },
  {
   "cell_type": "code",
   "execution_count": null,
   "metadata": {},
   "outputs": [],
   "source": [
    "# Let us see what the velocity texture looks like.\n",
    "fig = plt.figure(figsize=[8, 8])\n",
    "display = pyart.graph.RadarMapDisplay(radar)\n",
    "display.plot_ppi_map(\n",
    "    \"velocity_texture\",\n",
    "    sweep=2,\n",
    "    resolution=\"50m\",\n",
    "    vmin=0,\n",
    "    vmax=10,\n",
    "    projection=ccrs.PlateCarree(),\n",
    "    cmap=\"pyart_balance\",\n",
    ")\n",
    "plt.show()"
   ]
  },
  {
   "cell_type": "code",
   "execution_count": null,
   "metadata": {},
   "outputs": [],
   "source": [
    "# Plot a histogram of velocity texture to get a better idea of what values correspond to\n",
    "# hydrometeors and what values of texture correspond to artifacts.\n",
    "# In the below example, a threshold of 3 would eliminate most of the peak corresponding to noise\n",
    "# around 6 while preserving most of the values in the peak of ~0.5 corresponding to hydrometeors.\n",
    "hist, bins = np.histogram(radar.fields[\"velocity_texture\"][\"data\"], bins=150)\n",
    "bins = (bins[1:] + bins[:-1]) / 2.0\n",
    "plt.plot(bins, hist)\n",
    "plt.xlabel(\"Velocity texture\")\n",
    "plt.ylabel(\"Count\")"
   ]
  },
  {
   "cell_type": "code",
   "execution_count": null,
   "metadata": {},
   "outputs": [],
   "source": [
    "# Set up the gatefilter to be based on the velocity texture.\n",
    "gatefilter = pyart.filters.GateFilter(radar)\n",
    "gatefilter.exclude_above(\"velocity_texture\", 3)"
   ]
  },
  {
   "cell_type": "code",
   "execution_count": null,
   "metadata": {},
   "outputs": [],
   "source": [
    "# Let us view the vleocity with the filter applied.\n",
    "fig = plt.figure(figsize=[8, 8])\n",
    "display = pyart.graph.RadarMapDisplay(radar)\n",
    "display.plot_ppi_map(\n",
    "    \"velocity\",\n",
    "    sweep=2,\n",
    "    resolution=\"50m\",\n",
    "    vmin=-15,\n",
    "    vmax=15,\n",
    "    projection=ccrs.PlateCarree(),\n",
    "    cmap=\"pyart_balance\",\n",
    "    gatefilter=gatefilter,\n",
    ")\n",
    "plt.show()"
   ]
  },
  {
   "cell_type": "code",
   "execution_count": null,
   "metadata": {},
   "outputs": [],
   "source": [
    "# At this point, we can simply used dealias_region_based to dealias the velocities\n",
    "# and then add the new field to the radar.\n",
    "nyq = radar.instrument_parameters[\"nyquist_velocity\"][\"data\"][0]\n",
    "velocity_dealiased = pyart.correct.dealias_region_based(\n",
    "    radar, vel_field=\"velocity\", nyquist_vel=nyq, centered=True, gatefilter=gatefilter\n",
    ")\n",
    "radar.add_field(\"corrected_velocity\", velocity_dealiased, replace_existing=True)"
   ]
  },
  {
   "cell_type": "code",
   "execution_count": null,
   "metadata": {},
   "outputs": [],
   "source": [
    "# Plot the new velocities, which now look much more realistic.\n",
    "fig = plt.figure(figsize=[8, 8])\n",
    "display = pyart.graph.RadarMapDisplay(radar)\n",
    "display.plot_ppi_map(\n",
    "    \"corrected_velocity\",\n",
    "    sweep=2,\n",
    "    resolution=\"50m\",\n",
    "    vmin=-30,\n",
    "    vmax=30,\n",
    "    projection=ccrs.PlateCarree(),\n",
    "    cmap=\"pyart_balance\",\n",
    "    gatefilter=gatefilter,\n",
    ")\n",
    "plt.show()"
   ]
  }
 ],
 "metadata": {
  "kernelspec": {
   "display_name": "Python 3",
   "language": "python",
   "name": "python3"
  },
  "language_info": {
   "codemirror_mode": {
    "name": "ipython",
    "version": 3
   },
   "file_extension": ".py",
   "mimetype": "text/x-python",
   "name": "python",
   "nbconvert_exporter": "python",
   "pygments_lexer": "ipython3",
   "version": "3.8.2"
  }
 },
 "nbformat": 4,
 "nbformat_minor": 4
}
