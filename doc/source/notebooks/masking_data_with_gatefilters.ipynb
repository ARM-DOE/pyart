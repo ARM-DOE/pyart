{
 "cells": [
  {
   "cell_type": "markdown",
   "metadata": {},
   "source": [
    "# Masking Data With Py-ART Gatefilters"
   ]
  },
  {
   "cell_type": "code",
   "execution_count": null,
   "metadata": {},
   "outputs": [],
   "source": [
    "# This notebook gives examples on how to use a Py-ART GateFilter object to mask data."
   ]
  },
  {
   "cell_type": "code",
   "execution_count": null,
   "metadata": {},
   "outputs": [],
   "source": [
    "# First import needed modules.\n",
    "import cartopy.crs as ccrs\n",
    "import matplotlib.pyplot as plt\n",
    "import numpy as np\n",
    "import pyart"
   ]
  },
  {
   "cell_type": "code",
   "execution_count": null,
   "metadata": {},
   "outputs": [],
   "source": [
    "# Read the radar file.\n",
    "radar = pyart.io.read(\"sgpxsaprcmacsurI5.c1.20171004.203018.nc\")"
   ]
  },
  {
   "cell_type": "code",
   "execution_count": null,
   "metadata": {},
   "outputs": [],
   "source": [
    "# See what moments are present.\n",
    "radar.fields.keys()"
   ]
  },
  {
   "cell_type": "code",
   "execution_count": null,
   "metadata": {},
   "outputs": [],
   "source": [
    "# When plotting, we can see second trip echoes present as well as nonhydrometeor echoes.\n",
    "fig = plt.figure(figsize=[8, 8])\n",
    "display = pyart.graph.RadarMapDisplay(radar)\n",
    "display.plot_ppi_map(\n",
    "    \"reflectivity\",\n",
    "    sweep=2,\n",
    "    resolution=\"50m\",\n",
    "    vmin=-8,\n",
    "    vmax=64,\n",
    "    min_lon=-98.25,\n",
    "    max_lon=-96.75,\n",
    "    min_lat=35.75,\n",
    "    max_lat=37.25,\n",
    "    projection=ccrs.PlateCarree(),\n",
    ")\n",
    "plt.show()"
   ]
  },
  {
   "cell_type": "code",
   "execution_count": null,
   "metadata": {},
   "outputs": [],
   "source": [
    "# When both displaying and analyzing such data, it is desirable to remove such echoes.\n",
    "# Py-ART provides the GateFilter class for doing such filtering.\n",
    "gatefilter = pyart.filters.GateFilter(radar)"
   ]
  },
  {
   "cell_type": "code",
   "execution_count": null,
   "metadata": {},
   "outputs": [],
   "source": [
    "# The below example shows how you can use a gatefilter to exclude values where gate_id is\n",
    "# equal to a certain value. (You can exclude values based on conditions from multiple\n",
    "# fields. In this example, we are excluding regions identified as second trip echoes\n",
    "# (gate_id = 0), nonhydrometeors (gate_id = 1), and clutter (gate_id = 2).\n",
    "gatefilter.exclude_equal(\"gate_id\", 0)\n",
    "gatefilter.exclude_equal(\"gate_id\", 3)\n",
    "gatefilter.exclude_equal(\"gate_id\", 5)"
   ]
  },
  {
   "cell_type": "code",
   "execution_count": null,
   "metadata": {},
   "outputs": [],
   "source": [
    "# The gatefilter can be then be specified as an input to plot_ppi_map()\n",
    "# As you can see, much cleaner with the clutter removed.\n",
    "fig = plt.figure(figsize=[8, 8])\n",
    "display = pyart.graph.RadarMapDisplay(radar)\n",
    "display.plot_ppi_map(\n",
    "    \"reflectivity\",\n",
    "    sweep=2,\n",
    "    resolution=\"50m\",\n",
    "    vmin=-8,\n",
    "    vmax=64,\n",
    "    min_lon=-98.25,\n",
    "    max_lon=-96.75,\n",
    "    min_lat=35.75,\n",
    "    max_lat=37.25,\n",
    "    projection=ccrs.PlateCarree(),\n",
    "    gatefilter=gatefilter,\n",
    ")\n",
    "plt.show()"
   ]
  },
  {
   "cell_type": "code",
   "execution_count": null,
   "metadata": {},
   "outputs": [],
   "source": [
    "# Let's reset the gatefilter and try another method.\n",
    "gatefilter = pyart.filters.GateFilter(radar)"
   ]
  },
  {
   "cell_type": "code",
   "execution_count": null,
   "metadata": {},
   "outputs": [],
   "source": [
    "# Lets remove reflectivity values below a threshold.\n",
    "gatefilter.exclude_below(\"reflectivity\", 0)"
   ]
  },
  {
   "cell_type": "code",
   "execution_count": null,
   "metadata": {},
   "outputs": [],
   "source": [
    "# Here we see reflectivity values below zero masked.\n",
    "fig = plt.figure(figsize=[8, 8])\n",
    "display = pyart.graph.RadarMapDisplay(radar)\n",
    "display.plot_ppi_map(\n",
    "    \"reflectivity\",\n",
    "    sweep=2,\n",
    "    resolution=\"50m\",\n",
    "    vmin=-8,\n",
    "    vmax=64,\n",
    "    min_lon=-98.25,\n",
    "    max_lon=-96.75,\n",
    "    min_lat=35.75,\n",
    "    max_lat=37.25,\n",
    "    projection=ccrs.PlateCarree(),\n",
    "    gatefilter=gatefilter,\n",
    ")\n",
    "plt.show()"
   ]
  },
  {
   "cell_type": "code",
   "execution_count": null,
   "metadata": {},
   "outputs": [],
   "source": [
    "# The structure of the gatefilter includes boolean arrays of the same shape as the radar\n",
    "# fields that tell you whether a gate is excluded (gatefilter.gate_excluded) or included\n",
    "# (gatefilter.gate_included). These can be used to do calculations on the data that\n",
    "# include the filter. For example, if we want to get the mean reflectivity of each sweep, we can do:\n",
    "refl_array = np.ma.masked_where(\n",
    "    gatefilter.gate_included == False, radar.fields[\"reflectivity\"][\"data\"]\n",
    ")\n",
    "reflectivity_w_mask = [refl_array[x].mean() for x in radar.iter_slice()]\n",
    "reflectivity = [\n",
    "    radar.fields[\"reflectivity\"][\"data\"][x].mean() for x in radar.iter_slice()\n",
    "]\n",
    "print(reflectivity)\n",
    "print(reflectivity_w_mask)"
   ]
  }
 ],
 "metadata": {
  "kernelspec": {
   "display_name": "Python 3",
   "language": "python",
   "name": "python3"
  },
  "language_info": {
   "codemirror_mode": {
    "name": "ipython",
    "version": 3
   },
   "file_extension": ".py",
   "mimetype": "text/x-python",
   "name": "python",
   "nbconvert_exporter": "python",
   "pygments_lexer": "ipython3",
   "version": "3.8.2"
  }
 },
 "nbformat": 4,
 "nbformat_minor": 4
}
