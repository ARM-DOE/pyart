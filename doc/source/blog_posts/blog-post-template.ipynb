{
 "cells": [
  {
   "cell_type": "markdown",
   "id": "45cfb472-b815-4435-a25b-31da424d2344",
   "metadata": {
    "tags": []
   },
   "source": [
    "# Blog Post Template\n",
    "\n",
    "This is a template to use for blog posts! Make sure to copy this, and paste into one of the year directories (ex. `2022`).\n",
    "\n",
    "**Make sure to edit the tags for this by opening this notebook with a text editor, and editing the last section that looks like this**\n",
    "\n",
    "You need to edit the \n",
    "- [ ] Author\n",
    "- [ ] Date\n",
    "- [ ] Tags\n",
    "- [ ] Title\n",
    "\n",
    "```\n",
    " \"metadata\": {\n",
    "  \"author\": \"YOUR NAME HERE\",\n",
    "  \"date\": \"YYYY-MM-DD\",\n",
    "  \"kernelspec\": {\n",
    "   \"display_name\": \"Python 3 (ipykernel)\",\n",
    "   \"language\": \"python\",\n",
    "   \"name\": \"python3\"\n",
    "  },\n",
    "  \"language_info\": {\n",
    "   \"codemirror_mode\": {\n",
    "    \"name\": \"ipython\",\n",
    "    \"version\": 3\n",
    "   },\n",
    "   \"file_extension\": \".py\",\n",
    "   \"mimetype\": \"text/x-python\",\n",
    "   \"name\": \"python\",\n",
    "   \"nbconvert_exporter\": \"python\",\n",
    "   \"pygments_lexer\": \"ipython3\",\n",
    "   \"version\": \"3.9.12\"\n",
    "  },\n",
    "  \"tags\": \"list,of,tags\",\n",
    "  \"title\": \"INSERT TITLE HERE\"\n",
    " },\n",
    " \"nbformat\": 4,\n",
    " \"nbformat_minor\": 5\n",
    "}\n",
    "```"
   ]
  },
  {
   "cell_type": "markdown",
   "id": "46e488d6-b188-4678-882d-658b52e8d687",
   "metadata": {},
   "source": [
    "## Motivation\n",
    "\n",
    "Write about the motivation for this post here. Provide background information, and why the reader should care."
   ]
  },
  {
   "cell_type": "markdown",
   "id": "c43c1f1d-9a07-45fb-aa17-01d569da531c",
   "metadata": {},
   "source": [
    "## The Problem\n",
    "\n",
    "Define the problem - show errors, what the issue is you are trying to solve."
   ]
  },
  {
   "cell_type": "markdown",
   "id": "35e16154-8b95-4696-9ac3-e73fe637e293",
   "metadata": {},
   "source": [
    "## The Solution\n",
    "Include a walk through of the solution, with some sort of final figure or notable insight!"
   ]
  },
  {
   "cell_type": "markdown",
   "id": "02b669b8-48eb-46e3-8688-f30db62f905d",
   "metadata": {},
   "source": [
    "## Conclusions\n",
    "\n",
    "Sum up your conclusions here."
   ]
  },
  {
   "cell_type": "code",
   "execution_count": null,
   "id": "1c1ea1d9-3a03-420a-8ac7-1e405ab869e6",
   "metadata": {},
   "outputs": [],
   "source": []
  }
 ],
 "metadata": {
  "author": "YOUR NAME HERE",
  "date": "YYYY-MM-DD",
  "kernelspec": {
   "display_name": "Python 3 (ipykernel)",
   "language": "python",
   "name": "python3"
  },
  "language_info": {
   "codemirror_mode": {
    "name": "ipython",
    "version": 3
   },
   "file_extension": ".py",
   "mimetype": "text/x-python",
   "name": "python",
   "nbconvert_exporter": "python",
   "pygments_lexer": "ipython3",
   "version": "3.10.6"
  },
  "tags": "list,of,tags",
  "title": "INSERT TITLE HERE"
 },
 "nbformat": 4,
 "nbformat_minor": 5
}
