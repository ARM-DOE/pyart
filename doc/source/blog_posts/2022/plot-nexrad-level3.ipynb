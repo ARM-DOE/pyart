{
 "cells": [
  {
   "cell_type": "markdown",
   "id": "35f16693-ffc9-4da9-80eb-f20c629cdaf8",
   "metadata": {},
   "source": [
    "# Fixing Weird Patterns When Plotting NEXRAD Level 3 Data"
   ]
  },
  {
   "cell_type": "markdown",
   "id": "e3928bef-712e-4878-9881-d470696a1111",
   "metadata": {},
   "source": [
    "The motivation here comes from a thread on Twitter, indicating an issue when plotting NEXRAD Level 3 radial velocity (`NOU`).\n",
    "\n",
    "Here is the radar image, plotted by David ([@dryglick](https://twitter.com/dryglick)):\n",
    "\n",
    "<img src=\"../images/nexrad-plotting-issue.jpeg\" alt=\"drawing\" width=\"400\"/>\n",
    "\n",
    "Notice the odd pattern directly north/south and east/west of the radar...\n",
    "\n",
    "There appears to be a crosshair of grey/darker pixels in our image.\n",
    "\n",
    "This was identified as a [Moiré Pattern](https://en.wikipedia.org/wiki/Moiré_pattern), by Ryan May ([@dopplershift](https://twitter.com/dopplershift)), lead developer of MetPy, an open source python library for working with meteorological data."
   ]
  },
  {
   "cell_type": "markdown",
   "id": "c71dc7b9-ca2f-4fee-9765-f97f7d311763",
   "metadata": {},
   "source": [
    "## The Data\n",
    "We are using [NEXRAD Level 3 Data](https://www.ncei.noaa.gov/access/metadata/landing-page/bin/iso?id=gov.noaa.ncdc:C00708), which is ground-based radar data in the United States, defined as:\n",
    "\n",
    "\"NEXRAD Level 3 products are used to remotely detect atmospheric features, such as precipitation, precipitation-type, storms, turbulence and wind, for operational forecasting and data research analysis.\"\n",
    "\n",
    "This dataset is provided by the National Oceanic and Atmospheric Administration (NOAA).\n",
    "\n",
    "### Data Access\n",
    "We can access this dataset using the [NCEI NEXRAD Level 3 Search Portal](https://www.ncei.noaa.gov/access/search/data-search/weather-radar-level-iii). We **could** access data from Amazon Web Services (AWS) if we were interested in data **after 2020**, but since we are looking at at data from 2018, we need to use the NCEI archive.\n",
    "\n",
    "David mentioned he was looking at velocity data (`N0U`) from Elgin Air Force Base in the Panhandle of Florida, with the station identifier of `KEVX`, at **1458 UTC on October 10, 2018**, which was hours before [Hurricane Michael](https://www.nhc.noaa.gov/data/tcr/AL142018_Michael.pdf) made landfall along the Gulf Coast.\n",
    "\n",
    "We can enter the:\n",
    "- Radar data field (`N0U`)\n",
    "- Location (`KEVX`)\n",
    "- Date/time (`10/10/2018 at 1458 UTC`)\n",
    "\n",
    "into our query. Here is what it should lookl like on the webpage:\n",
    "\n",
    "<img src=\"../images/nexrad-level3-radar-query.png\" alt=\"radar-data-query\" width=\"600\"/>\n",
    "\n",
    "Once we add this to our cart, and wait for the data to be sent to our email, we download via HTTP (through a website) or FTP. \n",
    "\n",
    "We can now unzip the compressed file, then take a look at our data file, reading in the `N0U` (`velocity`) field.\n",
    "\n",
    "The specific file we are interested in is:\n",
    "\n",
    "`KMOB_SDUS54_N0UEVX_201810101458`"
   ]
  },
  {
   "cell_type": "markdown",
   "id": "7e3a1aaf-6807-4f54-87d6-ef8e06e00e6f",
   "metadata": {},
   "source": [
    "## Recreate the Issue Using PyART"
   ]
  },
  {
   "cell_type": "markdown",
   "id": "ec0352c3-0116-4474-bf66-a29763dfe926",
   "metadata": {},
   "source": [
    "### Imports"
   ]
  },
  {
   "cell_type": "code",
   "execution_count": null,
   "id": "083ffbfd-ca2a-41ba-b8ab-c7bd164fd230",
   "metadata": {},
   "outputs": [],
   "source": [
    "import cartopy.crs as ccrs\n",
    "import cartopy.feature as cfeature\n",
    "import matplotlib.colors as mcolors\n",
    "import pyart\n",
    "import numpy as np\n",
    "import matplotlib.pyplot as plt\n",
    "import warnings\n",
    "\n",
    "warnings.filterwarnings(\"ignore\")"
   ]
  },
  {
   "cell_type": "markdown",
   "id": "63edeec3-7c1c-4945-acb5-507a513e23d5",
   "metadata": {},
   "source": [
    "### Read the data using PyART\n",
    "When reading into PyART, we can use the [`pyart.io.read_level3`](https://arm-doe.github.io/pyart/API/generated/pyart.io.read_nexrad_level3.html#pyart.io.read_nexrad_level3) module, **or**, we can use the [`pyart.io.read`](https://arm-doe.github.io/pyart/API/generated/pyart.io.read.html#pyart.io.read) module which automatically detects the filetype being read in."
   ]
  },
  {
   "cell_type": "code",
   "execution_count": null,
   "id": "12f32eb8-d077-42d5-ba31-c84f0f21ab0a",
   "metadata": {},
   "outputs": [],
   "source": [
    "radar = pyart.io.read(\"KMOB_SDUS54_N0UEVX_201810101458\")"
   ]
  },
  {
   "cell_type": "markdown",
   "id": "1767ae05-d221-469c-a3fa-7e0a42734b9b",
   "metadata": {
    "tags": []
   },
   "source": [
    "### Plot our Data Using `RadarMapDisplay`\n"
   ]
  },
  {
   "cell_type": "markdown",
   "id": "7a0fe840-75c8-4a18-916c-baaa0ac9bfb0",
   "metadata": {},
   "source": [
    "#### Setting our Matplotlib style\n",
    "Before we dig into plotting, let's set our background to dark since that is what the original image showed and it will be easier to identify the pattern in the data."
   ]
  },
  {
   "cell_type": "code",
   "execution_count": null,
   "id": "cb8a65fd-5e82-47eb-8f96-4bbfb894d79a",
   "metadata": {},
   "outputs": [],
   "source": [
    "plt.style.use(\"dark_background\")"
   ]
  },
  {
   "cell_type": "markdown",
   "id": "d26d0a9b-3138-41ac-8af8-dd30d59976de",
   "metadata": {},
   "source": [
    "#### Plot our data without setting `alpha`"
   ]
  },
  {
   "cell_type": "markdown",
   "id": "3779e9fe-686d-4775-a3a5-ee37af5bfe7c",
   "metadata": {},
   "source": [
    "Since we want geographical boundaries on our map, let's use `RadarMapDisplay` with our `Radar` object to create the map.\n",
    "\n",
    "When we create our plot, everything looks okay - we don't see the odd Moiré Pattern..."
   ]
  },
  {
   "cell_type": "code",
   "execution_count": null,
   "id": "2cfe6549-d6ea-4dce-85b0-e431d0edca16",
   "metadata": {},
   "outputs": [],
   "source": [
    "fig = plt.figure(figsize=(10, 7))\n",
    "display = pyart.graph.RadarMapDisplay(radar)\n",
    "display.plot_ppi_map(\n",
    "    \"velocity\",\n",
    "    sweep=0,\n",
    "    vmin=-100,\n",
    "    vmax=100,\n",
    "    projection=ccrs.PlateCarree(),\n",
    "    colorbar_label=\"radial velocity (m/s)\",\n",
    "    cmap=\"pyart_balance\",\n",
    ")\n",
    "plt.xlim(-88, -83)\n",
    "plt.ylim(28, 33)\n",
    "plt.show()"
   ]
  },
  {
   "cell_type": "markdown",
   "id": "0fb03fe7-88a0-4d06-a435-cdfc4fd9d628",
   "metadata": {},
   "source": [
    "#### Add in the `alpha` argument"
   ]
  },
  {
   "cell_type": "markdown",
   "id": "6cdb09a6-3193-4d05-9e76-910a914da30e",
   "metadata": {},
   "source": [
    "When we add in the `alpha=0.8` argument, which adjusts the ***transparency*** of our field, we start to see the pattern. "
   ]
  },
  {
   "cell_type": "code",
   "execution_count": null,
   "id": "19958b30-f737-4b0b-8b22-855d437f0cb3",
   "metadata": {},
   "outputs": [],
   "source": [
    "fig = plt.figure(figsize=(10, 7))\n",
    "display = pyart.graph.RadarMapDisplay(radar)\n",
    "display.plot_ppi_map(\n",
    "    \"velocity\",\n",
    "    alpha=0.8,\n",
    "    sweep=0,\n",
    "    vmin=-100,\n",
    "    vmax=100,\n",
    "    projection=ccrs.PlateCarree(),\n",
    "    colorbar_label=\"radial velocity (m/s)\",\n",
    "    cmap=\"pyart_balance\",\n",
    ")\n",
    "\n",
    "plt.xlim(-88, -83)\n",
    "plt.ylim(28, 33)\n",
    "plt.show()"
   ]
  },
  {
   "cell_type": "markdown",
   "id": "eecddc06-43a3-412e-8bfd-cdeb69df82f1",
   "metadata": {},
   "source": [
    "## Dig into the Issue\n",
    "\n",
    "### Investigate `plot_ppi_map`\n",
    "Let's take a look at the specific plotting call being made with `plot_ppi_map` using `??`:"
   ]
  },
  {
   "cell_type": "code",
   "execution_count": null,
   "id": "5c026fce-79a1-405b-b611-7017f73ad447",
   "metadata": {},
   "outputs": [],
   "source": [
    "??display.plot_ppi_map"
   ]
  },
  {
   "cell_type": "markdown",
   "id": "d1872f39-dc4f-4561-b5e5-79ae6f159c58",
   "metadata": {
    "jp-MarkdownHeadingCollapsed": true,
    "tags": []
   },
   "source": [
    "We are using `matplotlib.pyplot.pcolormesh` (`plt.pcolormesh`) here to plot our radar data - using the included parameters:\n",
    "- alpha (data transparency)\n",
    "- vmin (minimum value to plot)\n",
    "- vmax (maximum value to plot)\n",
    "- cmap (colormap to use)\n",
    "- norm (colormap normalization)\n",
    "- transform (which projection to use)\n",
    "\n",
    "For `pcolormesh` parameters **not included in this list**, `pyart` is using the default parameters..."
   ]
  },
  {
   "cell_type": "markdown",
   "id": "be48b19d-da3a-4feb-8495-fe4d212701a7",
   "metadata": {},
   "source": [
    "### Investigate `pcolormesh` parameters\n",
    "In a similar fashion to the `plot_ppi_map` function from `pyart`, we can take a look at the parameters for `plt.pcolormesh`:"
   ]
  },
  {
   "cell_type": "code",
   "execution_count": null,
   "id": "5bd2d83a-edcd-4e23-9be0-efaeac383206",
   "metadata": {},
   "outputs": [],
   "source": [
    "?plt.pcolormesh"
   ]
  },
  {
   "cell_type": "markdown",
   "id": "3811c660-92db-4604-94e6-9079ff1bc9f0",
   "metadata": {},
   "source": [
    "#### Digging into `edgecolors`\n",
    "Notice how one of the arguments included here is `edgecolors`, which by default, is `none`. One of the options here is to set these to be \"face\", which is the adjacent data color.\n",
    "\n",
    "Let's test this out with our data to see if changing this parameter makes a difference..."
   ]
  },
  {
   "cell_type": "markdown",
   "id": "ea44fcf0-319d-4924-ad0b-297c8a785c75",
   "metadata": {},
   "source": [
    "### Try Modifying the `edgecolors` argument with `pcolormesh`\n",
    "Let's test this out with our data!\n",
    "\n",
    "First, let's read in the numpy array of data using `['data']`."
   ]
  },
  {
   "cell_type": "code",
   "execution_count": null,
   "id": "699f8e92-dfa6-4b12-95a0-d3b54d564d48",
   "metadata": {},
   "outputs": [],
   "source": [
    "velocity = radar.fields[\"velocity\"][\"data\"]\n",
    "velocity"
   ]
  },
  {
   "cell_type": "markdown",
   "id": "7ca9279a-1d84-4b09-b69c-11fa3977de02",
   "metadata": {},
   "source": [
    "Next, we need to access our coordinates in latitude/longitude form using `get_gate_lat_lon_alt(sweep)`\n",
    "\n",
    "Since we only have a single sweep, we can set that to 0."
   ]
  },
  {
   "cell_type": "code",
   "execution_count": null,
   "id": "17f8683b-db07-4363-ae10-6e1892b5809b",
   "metadata": {},
   "outputs": [],
   "source": [
    "lats, lons, alt = radar.get_gate_lat_lon_alt(0)\n",
    "lats, lons"
   ]
  },
  {
   "cell_type": "markdown",
   "id": "4da6d435-95a2-4279-b991-dce8fcd28caa",
   "metadata": {},
   "source": [
    "#### Plot our data with the default `edgecolors` argument\n",
    "Notice how our pattern shows up again - we get the Moiré Pattern..."
   ]
  },
  {
   "cell_type": "code",
   "execution_count": null,
   "id": "9d1ddc56-ae26-4caa-b7cc-dccf00516b45",
   "metadata": {},
   "outputs": [],
   "source": [
    "plt.pcolormesh(\n",
    "    lons,\n",
    "    lats,\n",
    "    velocity,\n",
    "    alpha=0.8,\n",
    ");"
   ]
  },
  {
   "cell_type": "markdown",
   "id": "a5ad035a-1d42-4714-8017-5247d223f8b8",
   "metadata": {},
   "source": [
    "When we try passing in `edgecolors='face'` instead, it goes away!"
   ]
  },
  {
   "cell_type": "code",
   "execution_count": null,
   "id": "2a61637c-0705-455f-bb12-60c6454c8215",
   "metadata": {},
   "outputs": [],
   "source": [
    "plt.pcolormesh(lons, lats, velocity, alpha=0.8, edgecolors=\"face\");"
   ]
  },
  {
   "cell_type": "markdown",
   "id": "58a0be6d-636e-40e5-8e14-8b3220bdf483",
   "metadata": {},
   "source": [
    "## Plotting up our Solution\n",
    "We found the issue! 😁 \n",
    "\n",
    "Let's plot up the original figure, with features, colorbars, and all!"
   ]
  },
  {
   "cell_type": "code",
   "execution_count": null,
   "id": "4429d85b-468b-47ab-bc85-cebff6bb3619",
   "metadata": {},
   "outputs": [],
   "source": [
    "# Setup our figure/geoaxis\n",
    "fig = plt.figure(figsize=(10, 7))\n",
    "ax = plt.subplot(111, projection=ccrs.PlateCarree())\n",
    "\n",
    "# Add state borders and the coastline\n",
    "ax.add_feature(cfeature.STATES, edgecolor=\"white\", linewidth=2)\n",
    "ax.add_feature(cfeature.COASTLINE, edgecolor=\"white\")\n",
    "\n",
    "# Plot our velocity field using pcolormesh with edgecolors argument\n",
    "mesh = ax.pcolormesh(\n",
    "    lons, lats, velocity, vmin=-100, vmax=100, edgecolors=\"face\", cmap=\"pyart_balance\"\n",
    ")\n",
    "\n",
    "# Configure our colorbar\n",
    "cbar = plt.colorbar(mesh)\n",
    "cbar.ax.tick_params(labelsize=14)\n",
    "cbar.set_label(\"Radial Velocity (m/s)\", fontsize=16)\n",
    "\n",
    "# Add gridlines\n",
    "gl = ax.gridlines(\n",
    "    crs=ccrs.PlateCarree(),\n",
    "    draw_labels=True,\n",
    "    linewidth=2,\n",
    "    color=\"gray\",\n",
    "    alpha=0.5,\n",
    "    linestyle=\"--\",\n",
    ")\n",
    "\n",
    "# Make sure labels are only plotted on the left and bottom\n",
    "gl.xlabels_top = False\n",
    "gl.ylabels_right = False\n",
    "\n",
    "# Increase the fontsize of our gridline labels\n",
    "gl.xlabel_style = {\"fontsize\": 14}\n",
    "gl.ylabel_style = {\"fontsize\": 14}\n",
    "\n",
    "# Add a title, using time information\n",
    "plt.title(\n",
    "    f\"KEVX (Elgin Air Force Base) \\n 0.5 Degree Radial Velocity \\n {radar.time['units'][14:]}\",\n",
    "    fontsize=16,\n",
    ")\n",
    "\n",
    "plt.savefig(\"kevz_velocity_2018_10_10_1458.png\", dpi=300)"
   ]
  },
  {
   "cell_type": "markdown",
   "id": "f360ae53-44c2-4ed1-85ef-15a38759299a",
   "metadata": {},
   "source": [
    "## Fixing the Issue in PyART\n",
    "\n",
    "Currently, within PyART, there is not a method of specificying the argument in `plot_ppi_map`, which is why we needed to add that custom section at the end using `plt.pcolormesh` directly.\n",
    "\n",
    "We are submitting a pull request (PR) to change the default behavior here (`edgecolors='face'`).\n",
    "\n",
    "**More importantly, this highlights a current limitation of our plotting API where we cannot specify matplotlib.pcolormesh arguments through `plot_ppi_map`. We will make sure this PR adds the ability to specify plotting arguements to pass to `plt.pcolormesh`**"
   ]
  },
  {
   "cell_type": "markdown",
   "id": "14df9191-e1c7-4403-874c-381a3129f063",
   "metadata": {},
   "source": [
    "## Conclusion\n",
    "\n",
    "Within this post, we explored an odd pattern that shows up when setting `alpha` values when plotting radar data using `plot_ppi_map`(`pcolormesh`). We needed to change the `edgecolors` argument in `plt.pcolormesh` to `edgecolors='faces'`.\n",
    "\n",
    "This also highlighted a need in the `plot_ppi_map` method in PyART to allow users to pass plotting arguments to `pcolormesh`.\n",
    "\n",
    "We are appreciative of David for raising this question on Twitter, helping us to work together to find a solution and improve our plotting functionality in PyART!"
   ]
  },
  {
   "cell_type": "code",
   "execution_count": null,
   "id": "092bef44-d7b7-48d6-9f26-e851691bd071",
   "metadata": {},
   "outputs": [],
   "source": []
  }
 ],
 "metadata": {
  "author": "Max Grover",
  "date": "2022-04-12",
  "kernelspec": {
   "display_name": "Python 3 (ipykernel)",
   "language": "python",
   "name": "python3"
  },
  "language_info": {
   "codemirror_mode": {
    "name": "ipython",
    "version": 3
   },
   "file_extension": ".py",
   "mimetype": "text/x-python",
   "name": "python",
   "nbconvert_exporter": "python",
   "pygments_lexer": "ipython3",
   "version": "3.9.12"
  },
  "tags": "NEXRAD,matplotlib,visualization,debug",
  "title": "Fixing Weird Patterns When Plotting NEXRAD Level 3 Data"
 },
 "nbformat": 4,
 "nbformat_minor": 5
}
