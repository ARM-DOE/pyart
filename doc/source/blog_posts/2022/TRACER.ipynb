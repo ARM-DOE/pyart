{
 "cells": [
  {
   "cell_type": "markdown",
   "id": "117d1e97-381d-4771-953a-30573739c4e9",
   "metadata": {},
   "source": [
    "# Blending Observations from TRACER using Py-ART\n",
    "\n",
    "The TRacking Aerosol Convection Interactions (TRACER) field experiment was a U.S. Department of Energy IOP with the goal of studying the lifecycle of convection over Houston as well as potential aerosol impacts on this lifecycle. Houston is uniquely suited for this kind of field experiment where seabreeze convection forms off of the coast of Houston in cleaner air conditions and then approaches the more polluted Houston region. For more information about the TRACER field experiment, click [here](https://www.arm.gov/research/campaigns/amf2021tracer).\n",
    "\n",
    "This post will show how to plot overlays of Texas A&M University Lightning Mapping Array data over GOES and ARM CSAPR2 data for a case of wildfire smoke entraining into developing convection sampled during July 12 and 13, 2022. In addition, we highlight a case that was tracked by CSAPR2 for 90 minutes on June 17, 2022. "
   ]
  },
  {
   "cell_type": "markdown",
   "id": "429ee2c4-ddcd-4f8c-aae5-2041345d2264",
   "metadata": {},
   "source": [
    "## Imports"
   ]
  },
  {
   "cell_type": "code",
   "execution_count": null,
   "id": "4f5b03b8-ff33-4124-824a-eb1df07b6972",
   "metadata": {},
   "outputs": [],
   "source": [
    "import pyart\n",
    "import act\n",
    "import matplotlib.pyplot as plt\n",
    "import xarray as xr\n",
    "import numpy as np\n",
    "import s3fs\n",
    "import cartopy.crs as ccrs\n",
    "import pandas as pd\n",
    "\n",
    "from scipy.spatial import KDTree\n",
    "\n",
    "%matplotlib inline"
   ]
  },
  {
   "cell_type": "markdown",
   "id": "3adeb7e8-0138-4f3a-9d48-06300b397323",
   "metadata": {},
   "source": [
    "# GOES data access\n",
    "\n",
    "All of the NOAA GOES satellite data are available on Amazon Web Services for download. Therefore, you can use the s3fs tool to download the required data. We will download band 13, which is the longwave infrared band of GOES. In order to only download the band 13 files, we will ensure that there is a \"C13\" in the filename as this denotes the band number for each file."
   ]
  },
  {
   "cell_type": "code",
   "execution_count": null,
   "id": "9d9e7920-e4d3-4403-8203-036d14ff0f67",
   "metadata": {},
   "outputs": [],
   "source": [
    "# Use the anonymous credentials to access public data\n",
    "fs = s3fs.S3FileSystem(anon=True)\n",
    "\n",
    "day_no = 168  # Day number of year (here is June 17th, 16th on leap year)\n",
    "year = 2022\n",
    "hour = 20\n",
    "files = np.array(fs.ls(\"noaa-goes16/ABI-L1b-RadC/%d/%d/%02d/\" % (year, day_no, hour)))\n",
    "band = \"13\"\n",
    "for fi in files:\n",
    "    if \"C13\" in fi:\n",
    "        print(\"Downloading %s\" % fi)\n",
    "        fs.get(fi, \"../data/\" + fi.split(\"/\")[-1])"
   ]
  },
  {
   "cell_type": "code",
   "execution_count": null,
   "id": "a49275e2-2a6f-4af3-8ad9-fbc39208617e",
   "metadata": {},
   "outputs": [],
   "source": [
    "goes_ds = xr.open_dataset(\n",
    "    \"../data/OR_ABI-L1b-RadC-M6C13_G16_s20221932006173_e20221932008557_c20221932009023.nc\"\n",
    ")\n",
    "goes_ds"
   ]
  },
  {
   "cell_type": "markdown",
   "id": "41cd102e-3489-444f-b5a9-25d7aa97905c",
   "metadata": {},
   "source": [
    "The following code in Python was created by the NOAA/NESDIS/STAR Aerosols and Atmospheric Composition Science Team to convert the GOES projection values to lat/lon coordinates that are more useful for selecting a sub-domain of GOES to plot. The original code used the netCDF4 library, so it was adapted to xarray by Bobby Jackson."
   ]
  },
  {
   "cell_type": "code",
   "execution_count": null,
   "id": "9b90edce-ab65-4370-aad4-7bbe1e61462f",
   "metadata": {},
   "outputs": [],
   "source": [
    "# Calculate latitude and longitude from GOES ABI fixed grid projection data\n",
    "# GOES ABI fixed grid projection is a map projection relative to the GOES satellite\n",
    "# Units: latitude in °N (°S < 0), longitude in °E (°W < 0)\n",
    "# See GOES-R Product User Guide (PUG) Volume 5 (L2 products) Section 4.2.8 for details & example of calculations\n",
    "# \"file_id\" is an ABI L1b or L2 .nc file opened using the netCDF4 library\n",
    "\n",
    "\n",
    "def calculate_degrees(file_id):\n",
    "\n",
    "    # Read in GOES ABI fixed grid projection variables and constants\n",
    "    x_coordinate_1d = file_id.variables[\"x\"][:]  # E/W scanning angle in radians\n",
    "    y_coordinate_1d = file_id.variables[\"y\"][:]  # N/S elevation angle in radians\n",
    "    projection_info = file_id.variables[\"goes_imager_projection\"]\n",
    "    lon_origin = projection_info.attrs[\"longitude_of_projection_origin\"]\n",
    "    H = (\n",
    "        projection_info.attrs[\"perspective_point_height\"]\n",
    "        + projection_info.attrs[\"semi_major_axis\"]\n",
    "    )\n",
    "    r_eq = projection_info.attrs[\"semi_major_axis\"]\n",
    "    r_pol = projection_info.attrs[\"semi_minor_axis\"]\n",
    "\n",
    "    # Create 2D coordinate matrices from 1D coordinate vectors\n",
    "    x_coordinate_2d, y_coordinate_2d = np.meshgrid(x_coordinate_1d, y_coordinate_1d)\n",
    "\n",
    "    # Equations to calculate latitude and longitude\n",
    "    lambda_0 = (lon_origin * np.pi) / 180.0\n",
    "    a_var = np.power(np.sin(x_coordinate_2d), 2.0) + (\n",
    "        np.power(np.cos(x_coordinate_2d), 2.0)\n",
    "        * (\n",
    "            np.power(np.cos(y_coordinate_2d), 2.0)\n",
    "            + (\n",
    "                ((r_eq * r_eq) / (r_pol * r_pol))\n",
    "                * np.power(np.sin(y_coordinate_2d), 2.0)\n",
    "            )\n",
    "        )\n",
    "    )\n",
    "    b_var = -2.0 * H * np.cos(x_coordinate_2d) * np.cos(y_coordinate_2d)\n",
    "    c_var = (H**2.0) - (r_eq**2.0)\n",
    "    r_s = (-1.0 * b_var - np.sqrt((b_var**2) - (4.0 * a_var * c_var))) / (2.0 * a_var)\n",
    "    s_x = r_s * np.cos(x_coordinate_2d) * np.cos(y_coordinate_2d)\n",
    "    s_y = -r_s * np.sin(x_coordinate_2d)\n",
    "    s_z = r_s * np.cos(x_coordinate_2d) * np.sin(y_coordinate_2d)\n",
    "\n",
    "    # Ignore numpy errors for sqrt of negative number; occurs for GOES-16 ABI CONUS sector data\n",
    "    np.seterr(all=\"ignore\")\n",
    "\n",
    "    abi_lat = (180.0 / np.pi) * (\n",
    "        np.arctan(\n",
    "            ((r_eq * r_eq) / (r_pol * r_pol))\n",
    "            * ((s_z / np.sqrt(((H - s_x) * (H - s_x)) + (s_y * s_y))))\n",
    "        )\n",
    "    )\n",
    "    abi_lon = (lambda_0 - np.arctan(s_y / (H - s_x))) * (180.0 / np.pi)\n",
    "\n",
    "    return abi_lat, abi_lon"
   ]
  },
  {
   "cell_type": "markdown",
   "id": "74d07be8-ed1c-44ed-a888-4082e1b69d80",
   "metadata": {},
   "source": [
    "Calculate the latitude and longitude coordinates of the GOES data and then crop the data to our region of interest: 25 to 35 $^{\\circ} N$ and 100 to 95 $^{\\circ} W$."
   ]
  },
  {
   "cell_type": "code",
   "execution_count": null,
   "id": "edf67c6a-4f3e-4b70-ad7d-85326d8d39ba",
   "metadata": {},
   "outputs": [],
   "source": [
    "lat, lon = calculate_degrees(goes_ds)\n",
    "lat = np.nan_to_num(lat, -9999)\n",
    "lon = np.nan_to_num(lon, -9999)\n",
    "lat_range = (25.0, 35.0)\n",
    "lon_range = (-100.0, -95.0)\n",
    "lat_min = lat.min(axis=1)\n",
    "lat_max = lat.max(axis=1)\n",
    "lat_min_bound = np.argmin(np.abs(lat_min - lat_range[0]))\n",
    "lat_max_bound = np.argmin(np.abs(lat_max - lat_range[1]))\n",
    "lon_min = lon.min(axis=0)\n",
    "lon_max = lon.max(axis=0)\n",
    "lon_min_bound = np.argmin(np.abs(lon_min - lon_range[0]))\n",
    "lon_max_bound = np.argmin(np.abs(lon_max - lon_range[1]))"
   ]
  },
  {
   "cell_type": "markdown",
   "id": "2b3bdf22-def9-4317-9c30-d808a9ce8878",
   "metadata": {},
   "source": [
    "# CSAPR data access\n",
    "\n",
    "The a1-level CSAPR data are available for public use on [ARM Data Disovery](https://adc.arm.gov/discovery/). In addition, we can use the Atmospheric Community Toolkit to download the July 12 and 13 CSAPR data. The DOI for the CSAPR2 a1-level data is 10.5439/1467901, which if accessed will bring you to the download page on ARM Data Discovery.\n",
    "\n",
    "The first block of code below will look at the automated catalogue of CSAPR data created by Adam Theisen. This provides us with a view of what scanning mode the CSAPR was in for a given time period as well as the scanning geometry and precipitation coverage."
   ]
  },
  {
   "cell_type": "code",
   "execution_count": null,
   "id": "6b08da26-3d98-4062-b01c-bdf6ed896f53",
   "metadata": {},
   "outputs": [],
   "source": [
    "cell_track_info = pd.read_csv(\n",
    "    \"https://raw.githubusercontent.com/AdamTheisen/cell-track-stats/main/data/houcsapr.20220617.csv\",\n",
    "    index_col=[\"time\"],\n",
    "    parse_dates=True,\n",
    ")\n",
    "cell_track_info"
   ]
  },
  {
   "cell_type": "markdown",
   "id": "cc4025b7-f825-4187-9406-583f85988723",
   "metadata": {},
   "source": [
    "For this notebook we are interested in the time periods where the CSAPR was scanning in PPI mode. For this entire time period, the CSAPR was in cell-tracking mode, meaning that it was focused on a single convective cell in the Houston region. This scanning strategy will have a much more frequent scans over a smaller area covered by a single convective cell and is designed to track the lifecycle of a convective cell."
   ]
  },
  {
   "cell_type": "code",
   "execution_count": null,
   "id": "47e7964a-eb1e-4905-ae84-eec66ba2e388",
   "metadata": {},
   "outputs": [],
   "source": [
    "start_hour = 20\n",
    "end_hour = 21\n",
    "print(\"All PPI scan times between %d UTC and %d UTC:\" % (start_hour, end_hour))\n",
    "for index in cell_track_info.index:\n",
    "    if index.hour >= 20 and index.hour < end_hour:\n",
    "        if cell_track_info.loc[index].scan_mode == \"ppi\":\n",
    "            print(index)"
   ]
  },
  {
   "cell_type": "code",
   "execution_count": null,
   "id": "25555a58-276a-4a32-86a2-5db39bfb28f8",
   "metadata": {},
   "outputs": [],
   "source": [
    "csapr = pyart.io.read(\n",
    "    \"/Users/rjackson/TRACER-PAWS-NEXRAD-LMA/data/houcsapr2cfrS2.a1.20220712.200714.nc\"\n",
    ")"
   ]
  },
  {
   "cell_type": "markdown",
   "id": "d321f2e7-1ada-4329-bddf-da72199b1ef3",
   "metadata": {},
   "source": [
    "## Load LMA Flash data\n",
    "\n",
    "Here we load the data from the Houston Lightning Mapping Array. The data are in standard netCDF format that is easily read by xarray.\n",
    "The data are currently available for order at https://data.eol.ucar.edu/cgi-bin/codiac/fgr_form/id=100.016. Both the flash density data and locations of each flash are stored in the file."
   ]
  },
  {
   "cell_type": "code",
   "execution_count": null,
   "id": "1501c0f4-af9d-4145-9013-9afe2c062c77",
   "metadata": {},
   "outputs": [],
   "source": [
    "lma_ds = xr.open_dataset(\n",
    "    \"/Users/rjackson/TRACER-PAWS-NEXRAD-LMA/data/LYLOUT_220712_000000_86400_map500m.nc\"\n",
    ")"
   ]
  },
  {
   "cell_type": "markdown",
   "id": "e6a057a2-6f13-4b00-9d1e-47a0aff85f30",
   "metadata": {},
   "source": [
    "## June 17th case\n",
    "\n",
    "This is a case of a storm that was tracked by CSAPR for about 90 minutes during the afternoon of June 17th 2022. We will use the same code from above to plot the radar/LMA overlays over the GOES IR radiance data for this case. This first block of code combines the above code to load and subset all of the necessary data for the overlays."
   ]
  },
  {
   "cell_type": "code",
   "execution_count": null,
   "id": "4b8fc474-36e8-4cc0-9162-be7ad2c163a6",
   "metadata": {},
   "outputs": [],
   "source": [
    "goes_ds = xr.open_dataset(\n",
    "    \"../data/OR_ABI-L1b-RadC-M6C13_G16_s20221682056178_e20221682058562_c20221682059029.nc\"\n",
    ")\n",
    "csapr = pyart.io.read(\n",
    "    \"/Users/rjackson/TRACER-PAWS-NEXRAD-LMA/data/houcsapr2cfrS2.a1.20220617.203229.nc\"\n",
    ")\n",
    "lma_ds = xr.open_dataset(\n",
    "    \"/Users/rjackson/TRACER-PAWS-NEXRAD-LMA/data/LYLOUT_220617_000000_86400_map500m.nc\"\n",
    ")\n",
    "lma_ds\n",
    "lat, lon = calculate_degrees(goes_ds)\n",
    "lat = np.nan_to_num(lat, -9999)\n",
    "lon = np.nan_to_num(lon, -9999)\n",
    "lat_range = (25.0, 35.0)\n",
    "lon_range = (-100.0, -95.0)\n",
    "lat_min = lat.min(axis=1)\n",
    "lat_max = lat.max(axis=1)\n",
    "lat_min_bound = np.argmin(np.abs(lat_min - lat_range[0]))\n",
    "lat_max_bound = np.argmin(np.abs(lat_max - lat_range[1]))\n",
    "lon_min = lon.min(axis=0)\n",
    "lon_max = lon.max(axis=0)\n",
    "lon_min_bound = np.argmin(np.abs(lon_min - lon_range[0]))\n",
    "lon_max_bound = np.argmin(np.abs(lon_max - lon_range[1]))"
   ]
  },
  {
   "cell_type": "markdown",
   "id": "8b2257bc-45d4-4797-92cc-f146c2f18636",
   "metadata": {},
   "source": [
    "Here, we use cartopy to plot the GOES/LMA data and then the RadarMapDisplay object to overlay the radar data on top of the GOES/LMA data."
   ]
  },
  {
   "cell_type": "code",
   "execution_count": null,
   "id": "908b4bc9-f6b5-4d3a-b47a-e80141972e86",
   "metadata": {},
   "outputs": [],
   "source": [
    "fig, ax = plt.subplots(1, 1, subplot_kw=dict(projection=ccrs.PlateCarree()))\n",
    "Rad = goes_ds.Rad.values[lat_max_bound:lat_min_bound, lon_max_bound:lon_min_bound]\n",
    "gatefilter = pyart.filters.GateFilter(csapr)\n",
    "gatefilter.exclude_below(\"normalized_coherent_power\", 0.50)\n",
    "\n",
    "disp = pyart.graph.RadarMapDisplay(csapr)\n",
    "c = ax.pcolormesh(\n",
    "    lon[lat_max_bound:lat_min_bound, lon_max_bound:lon_min_bound],\n",
    "    lat[lat_max_bound:lat_min_bound, lon_max_bound:lon_min_bound],\n",
    "    Rad,\n",
    "    cmap=\"binary\",\n",
    "    vmin=0,\n",
    "    vmax=150,\n",
    ")\n",
    "disp.plot_ppi_map(\n",
    "    \"reflectivity\", gatefilter=gatefilter, ax=ax, sweep=1, vmin=-10, vmax=60\n",
    ")\n",
    "\n",
    "plt.colorbar(c, label=\"GOES IR Radiance [W $m^{-2}\\ sr^{-1}]$\")\n",
    "\n",
    "flash_times = np.squeeze(\n",
    "    np.argwhere(\n",
    "        np.logical_and(\n",
    "            lma_ds.flash_time_start.values > np.datetime64(\"2022-06-17T20:31:00\"),\n",
    "            lma_ds.flash_time_start.values < np.datetime64(\"2022-06-17T20:33:00\"),\n",
    "        )\n",
    "    )\n",
    ")\n",
    "\n",
    "ax.scatter(\n",
    "    lma_ds.flash_center_longitude[flash_times],\n",
    "    lma_ds.flash_center_latitude[flash_times],\n",
    "    marker=\"+\",\n",
    ")\n",
    "ax.coastlines()\n",
    "ax.set_xlim([-96, -94.25])\n",
    "ax.set_ylim([28.5, 30.25])"
   ]
  },
  {
   "cell_type": "markdown",
   "id": "3819553e-2fde-4b7a-83a6-30e2f6ff1225",
   "metadata": {},
   "source": [
    "## June 17 RHI\n",
    "\n",
    "We are also interested in the Range-Height Indicator scans provided by CSAPR2 as this cell evolves. The RHI scans will provide a vertical-cross section of the microphysical properties of the storm as it evolves. Finally, this block of code will plot the altitudes and locations of each lightning strike overlaid over the RHI scan. SciPy's KDTree is used to find the nearest neighbors between the LMA lightning strike locations and the latitude and longitude locations of each gate in the RHI. After the nearest neighbors are found this provides us the altitude and range where the approximate location of the lightning strike would be. "
   ]
  },
  {
   "cell_type": "code",
   "execution_count": null,
   "id": "cd25bdab-7633-4975-b1ae-619921c381cf",
   "metadata": {
    "tags": []
   },
   "outputs": [],
   "source": [
    "csapr_rhi = pyart.io.read(\n",
    "    \"/Users/rjackson/TRACER-PAWS-NEXRAD-LMA/data/houcsapr2cfrS2.a1.20220617.203012.nc\"\n",
    ")\n",
    "gatefilter = pyart.filters.GateFilter(csapr_rhi)\n",
    "gatefilter.exclude_below(\"normalized_coherent_power\", 0.50)\n",
    "\n",
    "flash_times = np.squeeze(\n",
    "    np.argwhere(\n",
    "        np.logical_and(\n",
    "            lma_ds.flash_time_start.values > np.datetime64(\"2022-06-17T20:30:00\"),\n",
    "            lma_ds.flash_time_start.values < np.datetime64(\"2022-06-17T20:31:00\"),\n",
    "        )\n",
    "    )\n",
    ")\n",
    "flash_alts = lma_ds.flash_init_altitude[flash_times]\n",
    "flash_lons = lma_ds.flash_init_longitude[flash_times]\n",
    "flash_lats = lma_ds.flash_init_latitude[flash_times]\n",
    "rhi_lons = csapr_rhi.gate_longitude[\"data\"].flatten()\n",
    "rhi_lats = csapr_rhi.gate_latitude[\"data\"].flatten()\n",
    "rhi_alts = csapr_rhi.gate_altitude[\"data\"].flatten()\n",
    "\n",
    "kdtree_data = np.stack([rhi_lons, rhi_lats], axis=1)\n",
    "kdtree = KDTree(kdtree_data)\n",
    "inp_data = np.stack([flash_lons, flash_lats], axis=1)\n",
    "dist, where_in_rhi = kdtree.query(inp_data)\n",
    "\n",
    "flash_ranges = csapr_rhi.range[\"data\"][where_in_rhi % csapr_rhi.ngates]\n",
    "disp = pyart.graph.RadarMapDisplay(csapr_rhi)\n",
    "disp.plot_rhi(\"reflectivity\", gatefilter=gatefilter)\n",
    "print(flash_alts.shape)\n",
    "plt.scatter(flash_ranges / 1e3, flash_alts / 1e3, marker=\"+\")\n",
    "plt.xlim([0, 30])\n",
    "plt.ylim([0, 15])"
   ]
  }
 ],
 "metadata": {
  "author": "Bobby Jackson",
  "date": "2022-10-21",
  "kernelspec": {
   "display_name": "Python 3 (ipykernel)",
   "language": "python",
   "name": "python3"
  },
  "language_info": {
   "codemirror_mode": {
    "name": "ipython",
    "version": 3
   },
   "file_extension": ".py",
   "mimetype": "text/x-python",
   "name": "python",
   "nbconvert_exporter": "python",
   "pygments_lexer": "ipython3",
   "version": "3.10.6"
  },
  "tags": "TRACER,cloud,aerosol,radar",
  "title": "Blending Observations from TRACER using Py-ART"
 },
 "nbformat": 4,
 "nbformat_minor": 5
}
