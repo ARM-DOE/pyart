{
 "cells": [
  {
   "cell_type": "markdown",
   "id": "f227d9c3",
   "metadata": {},
   "source": [
    "# Active Py-ART Development - Submitting a Pull Request (PR)"
   ]
  },
  {
   "cell_type": "markdown",
   "id": "8cbf3e3e",
   "metadata": {},
   "source": [
    "The motivation for this blog comes from wanting to change the colorscheme within the default Py-ART documentation images to a more ([color vision deficiency friendly color scheme](https://ntrs.nasa.gov/api/citations/20180004634/downloads/20180004634.pdf)).\n",
    "\n",
    "Here are the images we are working with:\n",
    "\n",
    "<img src=\"../images/PyART_Docs_Original_PPI_image.png\" alt=\"drawing\" width=\"400\"/>\n",
    "\n",
    "<img src=\"../images/PyART_Docs_OriginalRHI_withJetColorscheme.png\" alt=\"drawing\" width=\"400\"/>\n",
    "\n",
    "This is also a good time to illustrate how to get started with\n",
    "active development in Py-ART and submitting changes\n",
    "to the source code for further collaboration. "
   ]
  },
  {
   "cell_type": "markdown",
   "id": "767607d9",
   "metadata": {},
   "source": [
    "Please refer to the ([Py-ART Contributor's Guide](https://arm-doe.github.io/pyart/userguide/INSTALL.html)) for installation guidence. \n",
    "\n",
    "I've highlighted some steps of the installation below that tripped me up and might offer some assistance. "
   ]
  },
  {
   "cell_type": "markdown",
   "id": "078c1e00",
   "metadata": {},
   "source": [
    "### First, if you have not done so already, you will need to fork the Py-ART github repository"
   ]
  },
  {
   "cell_type": "markdown",
   "id": "54e8f6d6",
   "metadata": {},
   "source": [
    "by clicking here:\n",
    "\n",
    "<img src=\"../images/pyart_github_clone.png\" alt=\"drawing\" width=\"400\"/>"
   ]
  },
  {
   "cell_type": "markdown",
   "id": "6c992b02",
   "metadata": {},
   "source": [
    "### Second, in a terminal, you will need to clone your remote fork with the \"git clone\" command"
   ]
  },
  {
   "cell_type": "code",
   "execution_count": null,
   "id": "8b873ed1",
   "metadata": {},
   "outputs": [],
   "source": [
    "git clone https_link_to_your_fork"
   ]
  },
  {
   "cell_type": "markdown",
   "id": "a37f56da",
   "metadata": {},
   "source": [
    "If you are unfamiliar with git command line commands, please review this ([getting started documentation](https://foundations.projectpythia.org/foundations/getting-started-github.html))"
   ]
  },
  {
   "cell_type": "markdown",
   "id": "084939e0",
   "metadata": {},
   "source": [
    "### Third, create the \"pyart-docs\" conda environment "
   ]
  },
  {
   "cell_type": "markdown",
   "id": "23bfc476",
   "metadata": {},
   "source": [
    "We will use the documentation YML file (located at the /pyart/doc/environmental.yml) to create the \"pyart-docs\" conda environment. \n",
    "\n",
    "NOTE: The documentation YML file is slightly different from the /pyart/environmental.yml file and contains the packages needed for active development\n",
    "\n",
    "To create a new environment from this YML file, type: "
   ]
  },
  {
   "cell_type": "code",
   "execution_count": null,
   "id": "6e167aff",
   "metadata": {},
   "outputs": [],
   "source": [
    "conda env create -f environment.yml"
   ]
  },
  {
   "cell_type": "markdown",
   "id": "7cbd8f66",
   "metadata": {},
   "source": [
    "### Fourth, we will need to install the ([TRMM RSL Library](https://trmm-fc.gsfc.nasa.gov/trmm_gv/software/rsl/))"
   ]
  },
  {
   "cell_type": "markdown",
   "id": "2eb0616a",
   "metadata": {},
   "source": [
    "<img src=\"../images/TRMM_RSL_webpage.png\" alt=\"drawing\" width=\"400\"/>\n",
    "\n",
    "Click on the \"Download latest version\" button and download the package to a local location (~/opt - for me)\n",
    "\n",
    "You will then need to run the installation commands from the RSL library:"
   ]
  },
  {
   "cell_type": "code",
   "execution_count": null,
   "id": "b1436d2a",
   "metadata": {},
   "outputs": [],
   "source": [
    " ./configure"
   ]
  },
  {
   "cell_type": "code",
   "execution_count": null,
   "id": "a2517416",
   "metadata": {},
   "outputs": [],
   "source": [
    " make install "
   ]
  },
  {
   "cell_type": "markdown",
   "id": "926a04d6",
   "metadata": {},
   "source": [
    "You will need to add the location of the library to your path. For me, this would be the ~/.kshrc file"
   ]
  },
  {
   "cell_type": "code",
   "execution_count": null,
   "id": "89ec366d",
   "metadata": {},
   "outputs": [],
   "source": [
    "export PATH=\"/opt/rsl-v1.50/:$PATH\""
   ]
  },
  {
   "cell_type": "markdown",
   "id": "9230ebe3",
   "metadata": {},
   "source": [
    "### Lastly, activate the 'pyart-docs' environment and install the python script within your forked repository"
   ]
  },
  {
   "cell_type": "code",
   "execution_count": null,
   "id": "a5a10e1d",
   "metadata": {},
   "outputs": [],
   "source": [
    " pip install -e ."
   ]
  },
  {
   "cell_type": "markdown",
   "id": "2f65879a",
   "metadata": {},
   "source": [
    "## OKAY! You should be installed now, and ready to make changes to the source code!"
   ]
  },
  {
   "cell_type": "markdown",
   "id": "025093cb",
   "metadata": {},
   "source": [
    "##### 1. First, create a New Branch for our Changes"
   ]
  },
  {
   "cell_type": "code",
   "execution_count": null,
   "id": "3bee2fe0",
   "metadata": {},
   "outputs": [],
   "source": [
    "git checkout -b newblog_post"
   ]
  },
  {
   "cell_type": "markdown",
   "id": "d565a5e8",
   "metadata": {},
   "source": [
    "##### 2. Push New Branch To Remote"
   ]
  },
  {
   "cell_type": "code",
   "execution_count": null,
   "id": "fcc6e481",
   "metadata": {},
   "outputs": [],
   "source": [
    "git push --set-upstream origin newblog_post"
   ]
  },
  {
   "cell_type": "markdown",
   "id": "092016c5",
   "metadata": {},
   "source": [
    "Let's first change the PPI image. The original code is located at: /pyart/examples/plotting/plot_ppi_mdv.py"
   ]
  },
  {
   "cell_type": "code",
   "execution_count": null,
   "id": "d794ac14",
   "metadata": {},
   "outputs": [],
   "source": [
    "\"\"\"\n",
    "=================================\n",
    "Create a PPI plot from a MDV file\n",
    "=================================\n",
    "   \n",
    "An example which creates a PPI plot of a MDV file using a RadarDisplay object.\n",
    "   \n",
    "\"\"\"\n",
    "# Author: Jonathan J. Helmus (jhelmus@anl.gov)\n",
    "# License: BSD 3 clause\n",
    "\n",
    "import matplotlib.pyplot as plt\n",
    "import pyart\n",
    "from pyart.testing import get_test_data\n",
    "\n",
    "filename = get_test_data(\"110635.mdv\")\n",
    "\n",
    "# create the plot using RadarDisplay\n",
    "radar = pyart.io.read_mdv(filename)\n",
    "display = pyart.graph.RadarDisplay(radar)\n",
    "fig = plt.figure(figsize=[5, 5])\n",
    "ax = fig.add_subplot(111)\n",
    "display.plot(\n",
    "    \"reflectivity\", 0, vmin=-16.0, vmax=64, title=\"PPI\", cmap=plt.get_cmap(\"jet\")\n",
    ")\n",
    "display.set_limits(ylim=[-150, 150], xlim=[-150, 150])"
   ]
  },
  {
   "cell_type": "markdown",
   "id": "241df050",
   "metadata": {},
   "source": [
    "Let's now change the color scheme to one of Py-ART's ([colorbind friendly schemes](https://arm-doe.github.io/pyart/API/generated/pyart.graph.html?highlight=homeyerrainbow))"
   ]
  },
  {
   "cell_type": "code",
   "execution_count": null,
   "id": "b8804758",
   "metadata": {},
   "outputs": [],
   "source": [
    "\"\"\"\n",
    "=================================\n",
    "Create a PPI plot from a MDV file\n",
    "=================================\n",
    "   \n",
    "An example which creates a PPI plot of a MDV file using a RadarDisplay object.\n",
    "   \n",
    "\"\"\"\n",
    "# Author: Jonathan J. Helmus (jhelmus@anl.gov)\n",
    "# License: BSD 3 clause\n",
    "\n",
    "import matplotlib.pyplot as plt\n",
    "import pyart\n",
    "from pyart.testing import get_test_data\n",
    "\n",
    "filename = get_test_data(\"110635.mdv\")\n",
    "\n",
    "# create the plot using RadarDisplay\n",
    "radar = pyart.io.read_mdv(filename)\n",
    "display = pyart.graph.RadarDisplay(radar)\n",
    "fig = plt.figure(figsize=[5, 5])\n",
    "ax = fig.add_subplot(111)\n",
    "display.plot(\n",
    "    \"reflectivity\", 0, vmin=-16.0, vmax=64, title=\"PPI\", cmap=\"pyart_HomeyerRainbow\"\n",
    ")\n",
    "display.set_limits(ylim=[-150, 150], xlim=[-150, 150])"
   ]
  },
  {
   "cell_type": "markdown",
   "id": "b5a12628",
   "metadata": {},
   "source": [
    "For the RHI scan, I've created a new file to only display one of the sweeps, called \"plot_rhi_cfradial_singlescan.py\"\n",
    "\n",
    "This new file is also located at: /pyart/examples/plotting/"
   ]
  },
  {
   "cell_type": "code",
   "execution_count": null,
   "id": "b316ffa9",
   "metadata": {},
   "outputs": [],
   "source": [
    "\"\"\"\n",
    "======================================================\n",
    "Create a multiple panel RHI plot from a CF/Radial file\n",
    "======================================================\n",
    " \n",
    "An example which creates a RHI plot of a CF/Radial file using\n",
    "a RadarDisplay object.\n",
    " \n",
    "\"\"\"\n",
    "\n",
    "import matplotlib.pyplot as plt\n",
    "import netCDF4\n",
    "import pyart\n",
    "from pyart.testing import get_test_data\n",
    "\n",
    "filename = get_test_data(\"sgpxsaprrhicmacI5.c0.20110524.015604_NC4.nc\")\n",
    "\n",
    "# create the plot using RadarDisplay\n",
    "radar = pyart.io.read_cfradial(filename)\n",
    "display = pyart.graph.RadarDisplay(radar)\n",
    "\n",
    "fig = plt.figure(figsize=[15, 5])\n",
    "fig.subplots_adjust(hspace=0.4)\n",
    "xlabel = \"Distance from radar (km)\"\n",
    "ylabel = \"Distance above radar (km)\"\n",
    "colorbar_label = \"Equivalent reflectivity factor (dBZ)\"\n",
    "\n",
    "ax = fig.add_subplot(1, 1, 1)\n",
    "display.plot(\n",
    "    \"reflectivity_horizontal\",\n",
    "    0,\n",
    "    vmin=-20,\n",
    "    vmax=20,\n",
    "    mask_outside=True,\n",
    "    title=\"RHI\",\n",
    "    axislabels=(xlabel, ylabel),\n",
    "    cmap=plt.get_cmap(\"jet\"),\n",
    "    colorbar_label=colorbar_label,\n",
    "    ax=ax,\n",
    ")\n",
    "display.set_limits(ylim=[0, 15], ax=ax)\n",
    "\n",
    "plt.show()"
   ]
  },
  {
   "cell_type": "code",
   "execution_count": null,
   "id": "c1226315",
   "metadata": {},
   "outputs": [],
   "source": [
    "\"\"\"\n",
    "======================================================\n",
    "Create a multiple panel RHI plot from a CF/Radial file\n",
    "======================================================\n",
    " \n",
    "An example which creates a RHI plot of a CF/Radial file using\n",
    "a RadarDisplay object.\n",
    " \n",
    "\"\"\"\n",
    "\n",
    "import matplotlib.pyplot as plt\n",
    "import netCDF4\n",
    "import pyart\n",
    "from pyart.testing import get_test_data\n",
    "\n",
    "filename = get_test_data(\"sgpxsaprrhicmacI5.c0.20110524.015604_NC4.nc\")\n",
    "\n",
    "# create the plot using RadarDisplay\n",
    "radar = pyart.io.read_cfradial(filename)\n",
    "display = pyart.graph.RadarDisplay(radar)\n",
    "\n",
    "fig = plt.figure(figsize=[15, 5])\n",
    "fig.subplots_adjust(hspace=0.4)\n",
    "xlabel = \"Distance from radar (km)\"\n",
    "ylabel = \"Distance above radar (km)\"\n",
    "colorbar_label = \"Equivalent reflectivity factor (dBZ)\"\n",
    "\n",
    "ax = fig.add_subplot(1, 1, 1)\n",
    "display.plot(\n",
    "    \"reflectivity_horizontal\",\n",
    "    0,\n",
    "    vmin=-20,\n",
    "    vmax=20,\n",
    "    mask_outside=True,\n",
    "    title=\"RHI\",\n",
    "    axislabels=(xlabel, ylabel),\n",
    "    cmap=\"pyart_HomeyerRainbow\",\n",
    "    colorbar_label=colorbar_label,\n",
    "    ax=ax,\n",
    ")\n",
    "display.set_limits(ylim=[0, 15], ax=ax)\n",
    "\n",
    "plt.show()"
   ]
  },
  {
   "cell_type": "markdown",
   "id": "a2b5c994",
   "metadata": {},
   "source": [
    "## Now lets commit these changes to github!"
   ]
  },
  {
   "cell_type": "markdown",
   "id": "9d758b54",
   "metadata": {},
   "source": [
    "The git 'status' command will show which branch we are working on and all changes made\n",
    "\n",
    "'Changes not staged for commit\" are all changes I have made to files within my local Py-ART repository.\n",
    "\n",
    "'Untracked files' are any file that is new to Py-ART, and is currently not submitted to the repository. "
   ]
  },
  {
   "cell_type": "code",
   "execution_count": null,
   "id": "69a5a07a",
   "metadata": {},
   "outputs": [],
   "source": [
    "# (pyart-docs) git status\n",
    "On branch blog_PR\n",
    "Changes not staged for commit:\n",
    "  (use \"git add <file>...\" to update what will be committed)\n",
    "  (use \"git restore <file>...\" to discard changes in working directory)\n",
    "\tmodified:   ../../doc/source/_static/ppi.png\n",
    "\tmodified:   ../../doc/source/_static/rhi.png\n",
    "\tmodified:   plot_ppi_mdv.py\n",
    "\n",
    "Untracked files:\n",
    "  (use \"git add <file>...\" to include in what will be committed)\n",
    "\tplot_rhi_cfradial_singlescan.py\n",
    "\n",
    "no changes added to commit (use \"git add\" and/or \"git commit -a\")"
   ]
  },
  {
   "cell_type": "markdown",
   "id": "66ba08d1",
   "metadata": {},
   "source": [
    "As the git 'status' output shows, we need to 'git add' to update any features that changed. \n",
    "After adding the new images for the docs and updated (and new) code, we need to \"git commit\" these changes.\n",
    "\n",
    "PyART requires a commit statement when submitting a pull request, which I have added above the comment lines, marked by '#'"
   ]
  },
  {
   "cell_type": "code",
   "execution_count": null,
   "id": "122243bb",
   "metadata": {},
   "outputs": [],
   "source": [
    "(pyart-docs) git commit \n",
    "hint: Waiting for your editor to close the file... \n",
    "   ENH: PyART doc static image color schemes changed to colorblind friendly PyART scheme.\n",
    "   plot_ppi_mdv.py modified for this change. \n",
    "   plot_rhi_cfradial_singlescan.py created to create one rhi cfradial plot for the docs.\n",
    "   # Please enter the commit message for your changes. Lines starting\n",
    "   # with '#' will be ignored, and an empty message aborts the commit.\n",
    "   #\n",
    "   # On branch blog_PR\n",
    "   # Changes to be committed:\n",
    "   #       modified:   ../../doc/source/_static/ppi.png\n",
    "   #       modified:   ../../doc/source/_static/rhi.png\n",
    "   #       modified:   plot_ppi_mdv.py\n",
    "   #       new file:   plot_rhi_cfradial_singlescan.py\n",
    " \n"
   ]
  },
  {
   "cell_type": "markdown",
   "id": "b9d5f536",
   "metadata": {},
   "source": [
    "Finally, 'git push' will push all these changes to the remote repository (my personal fork of Py-ART), where I can then request a pull-request by going to my 'branches' "
   ]
  },
  {
   "cell_type": "markdown",
   "id": "95994d5e",
   "metadata": {},
   "source": [
    "## After Creating a Pull Request, this is what it looks like on GitHub"
   ]
  },
  {
   "cell_type": "markdown",
   "id": "86fcb38c",
   "metadata": {},
   "source": [
    "<img src=\"../images/pull_request_commitmessage.png\" alt=\"drawing\" width=\"400\"/>"
   ]
  },
  {
   "cell_type": "markdown",
   "id": "328983ed",
   "metadata": {},
   "source": [
    "Additionally, the Pull Request will show what code has been changed and allows anyone to respond with comments/suggestions\n",
    "\n",
    "<img src=\"../images/pull_request_changes.png\" alt=\"drawing\" width=\"400\"/>"
   ]
  },
  {
   "cell_type": "markdown",
   "id": "92aae8c2",
   "metadata": {},
   "source": [
    "# Hope this helped!"
   ]
  }
 ],
 "metadata": {
  "author": "Joe O'Brien",
  "date": "2022-04-26",
  "kernelspec": {
   "display_name": "Python 3",
   "language": "python",
   "name": "python3"
  },
  "language_info": {
   "codemirror_mode": {
    "name": "ipython",
    "version": 3
   },
   "file_extension": ".py",
   "mimetype": "text/x-python",
   "name": "python",
   "nbconvert_exporter": "python",
   "pygments_lexer": "ipython3",
   "version": "3.6.15"
  }
 },
 "nbformat": 4,
 "nbformat_minor": 5
}
