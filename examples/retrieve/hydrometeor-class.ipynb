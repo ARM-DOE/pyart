{
 "cells": [
  {
   "cell_type": "code",
   "execution_count": null,
   "id": "be2d2ecb-8e76-432c-b7e1-3b92eb61e425",
   "metadata": {},
   "outputs": [],
   "source": [
    "import numpy as np\n",
    "import cartopy.crs as ccrs\n",
    "import cartopy\n",
    "import matplotlib.pyplot as plt\n",
    "\n",
    "import pyart"
   ]
  },
  {
   "cell_type": "code",
   "execution_count": null,
   "id": "40d2e0f8-4695-4f3c-9bad-c866536f260c",
   "metadata": {},
   "outputs": [],
   "source": [
    "# Read in some test data\n",
    "filename = pyart.testing.get_test_data(\"swx_20120520_0641.nc\")\n",
    "radar = pyart.io.read(filename)"
   ]
  },
  {
   "cell_type": "code",
   "execution_count": null,
   "id": "3ecbd17b-8f94-43b7-84dd-a69f7e071646",
   "metadata": {},
   "outputs": [],
   "source": [
    "list(radar.fields)"
   ]
  },
  {
   "cell_type": "code",
   "execution_count": null,
   "id": "584a1954-c1f0-4690-8423-c0053d54b712",
   "metadata": {},
   "outputs": [],
   "source": [
    "radar.fields[\"diff_phase\"]"
   ]
  },
  {
   "cell_type": "code",
   "execution_count": null,
   "id": "6cb555a2-549e-4e10-adb8-938be66aeb4e",
   "metadata": {},
   "outputs": [],
   "source": [
    "gatefilter = pyart.filters.moment_and_texture_based_gate_filter(\n",
    "    radar,\n",
    "    zdr_field=\"diff_reflectivity\",\n",
    "    rhv_field=\"copol_coeff\",\n",
    "    phi_field=\"dp_phase_shift\",\n",
    "    refl_field=\"corrected_reflectivity_horizontal\",\n",
    ")\n",
    "# gatefilter.exclude_below('signal_to_noise_ratio', 10)"
   ]
  },
  {
   "cell_type": "code",
   "execution_count": null,
   "id": "3178c6c3-4b84-4712-af6c-27d04297599c",
   "metadata": {},
   "outputs": [],
   "source": [
    "fig, ax = plt.subplots(1, 2, figsize=(12, 6), sharex=True, sharey=True)\n",
    "display = pyart.graph.RadarDisplay(radar)\n",
    "display.plot_ppi(\n",
    "    \"corrected_reflectivity_horizontal\",\n",
    "    0,\n",
    "    vmin=0,\n",
    "    vmax=60.0,\n",
    "    ax=ax[0],\n",
    "    colorbar_label=\"Raw Ref\",\n",
    "    cmap=\"pyart_HomeyerRainbow\",\n",
    ")\n",
    "display.plot_ppi(\n",
    "    \"corrected_reflectivity_horizontal\",\n",
    "    0,\n",
    "    vmin=0,\n",
    "    vmax=60.0,\n",
    "    gatefilter=gtfilter,\n",
    "    cmap=\"pyart_HomeyerRainbow\",\n",
    "    ax=ax[1],\n",
    "    colorbar_label=\"Filtered Ref\",\n",
    ")\n",
    "ax[0].set_xlim([-50, 50])\n",
    "ax[0].set_ylim([-50, 50])\n",
    "ax[0].set_aspect(\"equal\", \"box\")\n",
    "ax[1].set_aspect(\"equal\", \"box\")"
   ]
  },
  {
   "cell_type": "code",
   "execution_count": null,
   "id": "74c8b2e9-dd8c-49de-a0fe-b49c9413f3a8",
   "metadata": {},
   "outputs": [],
   "source": [
    "list(radar.fields)"
   ]
  },
  {
   "cell_type": "code",
   "execution_count": null,
   "id": "a4be687b-cf52-4e85-bd22-91b4054b7b20",
   "metadata": {},
   "outputs": [],
   "source": [
    "hydro = pyart.retrieve.hydroclass_semisupervised(\n",
    "    radar,\n",
    "    refl_field=\"corrected_reflectivity_horizontal\",\n",
    "    zdr_field=\"diff_reflectivity\",\n",
    "    kdp_field=\"diff_phase\",\n",
    "    rhv_field=\"copol_coeff\",\n",
    ")"
   ]
  },
  {
   "cell_type": "code",
   "execution_count": null,
   "id": "95d0f228-d999-4038-87e5-6cf06e622c9d",
   "metadata": {},
   "outputs": [],
   "source": [
    "radar.in"
   ]
  },
  {
   "cell_type": "code",
   "execution_count": null,
   "id": "6f232563-c9b1-4c75-875a-34a7bb51e9f5",
   "metadata": {},
   "outputs": [],
   "source": []
  }
 ],
 "metadata": {
  "kernelspec": {
   "display_name": "Python 3 (ipykernel)",
   "language": "python",
   "name": "python3"
  },
  "language_info": {
   "codemirror_mode": {
    "name": "ipython",
    "version": 3
   },
   "file_extension": ".py",
   "mimetype": "text/x-python",
   "name": "python",
   "nbconvert_exporter": "python",
   "pygments_lexer": "ipython3",
   "version": "3.10.5"
  }
 },
 "nbformat": 4,
 "nbformat_minor": 5
}
