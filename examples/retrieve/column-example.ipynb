{
 "cells": [
  {
   "cell_type": "markdown",
   "id": "b691a423-193d-4731-a428-663a1b7eb090",
   "metadata": {},
   "source": [
    "# Column Subset from a Radar\n",
    "Py-ART makes it possible to subset the column of values above a provided point or set of points."
   ]
  },
  {
   "cell_type": "code",
   "execution_count": null,
   "id": "cf9d53e9-fd32-4c9d-a02b-6e3abad7e32c",
   "metadata": {},
   "outputs": [],
   "source": [
    "import pyart\n",
    "import numpy as np\n",
    "import matplotlib.pyplot as plt\n",
    "import cartopy.crs as ccrs\n",
    "from pyart.testing import get_test_data"
   ]
  },
  {
   "cell_type": "code",
   "execution_count": null,
   "id": "93abac42-e294-474a-a7e2-30d279d25170",
   "metadata": {},
   "outputs": [],
   "source": [
    "# Locate the test data and read in using main read method\n",
    "filename = get_test_data(\"swx_20120520_0641.nc\")\n",
    "radar = pyart.io.read(filename)"
   ]
  },
  {
   "cell_type": "code",
   "execution_count": null,
   "id": "4c9cbc8a-01b2-4b33-b919-a91f0f6af936",
   "metadata": {},
   "outputs": [],
   "source": [
    "display = pyart.graph.RadarMapDisplay(radar)\n",
    "ax = plt.subplot(111, projection=ccrs.PlateCarree())\n",
    "display.plot_ppi_map(\n",
    "    \"reflectivity_horizontal\",\n",
    "    0,\n",
    "    ax=ax,\n",
    "    vmin=-32,\n",
    "    vmax=64.0,\n",
    "    lon_lines=np.arange(-98, -97, 0.2),\n",
    "    lat_lines=np.arange(36, 37, 0.2),\n",
    ")"
   ]
  },
  {
   "cell_type": "markdown",
   "id": "d1efe0ce-2142-474c-9392-fa7154a43c2a",
   "metadata": {},
   "source": [
    "## Plot our measurment location\n",
    "Let's say we have a surface observation site at 97.73 degrees west, and 36.41 degrees north.\n",
    "\n",
    "We can add this to our plot!"
   ]
  },
  {
   "cell_type": "code",
   "execution_count": null,
   "id": "6120b732-5732-43b6-a612-f0793627f9d1",
   "metadata": {},
   "outputs": [],
   "source": [
    "site_lon = -97.73  # longitude in degrees\n",
    "site_lat = 36.41  # latitdue in degrees\n",
    "\n",
    "\n",
    "display = pyart.graph.RadarMapDisplay(radar)\n",
    "ax = plt.subplot(111, projection=ccrs.PlateCarree())\n",
    "display.plot_ppi_map(\n",
    "    \"reflectivity_horizontal\",\n",
    "    0,\n",
    "    ax=ax,\n",
    "    vmin=-32,\n",
    "    vmax=64.0,\n",
    "    lon_lines=np.arange(-98, -97, 0.2),\n",
    "    lat_lines=np.arange(36, 37, 0.2),\n",
    ")\n",
    "\n",
    "ax.scatter(site_lon, site_lat, color=\"black\")"
   ]
  },
  {
   "cell_type": "code",
   "execution_count": null,
   "id": "565649bb-c30d-4d44-a86a-9e3711076c21",
   "metadata": {},
   "outputs": [],
   "source": [
    "import pandas as pd\n",
    "\n",
    "pd.to_datetime(radar.time[\"units\"][14:])"
   ]
  },
  {
   "cell_type": "code",
   "execution_count": null,
   "id": "eab259f1-8a67-40be-8487-306ac38545fd",
   "metadata": {},
   "outputs": [],
   "source": [
    "radar.time"
   ]
  },
  {
   "cell_type": "code",
   "execution_count": null,
   "id": "39a265f6-cc27-4a9e-8f5f-8b6282819ba0",
   "metadata": {},
   "outputs": [],
   "source": [
    "pd.to_datetime(radar.time[\"units\"][14:]).to_numpy()"
   ]
  },
  {
   "cell_type": "code",
   "execution_count": null,
   "id": "ed81e657-edec-4e3f-81ec-4012976a132f",
   "metadata": {},
   "outputs": [],
   "source": [
    "ds = pyart.util.columnsect.get_field_location(radar, site_lat, site_lon)"
   ]
  },
  {
   "cell_type": "code",
   "execution_count": null,
   "id": "3b02523a-6290-4da8-b1f3-0abba0e64bbf",
   "metadata": {},
   "outputs": [],
   "source": [
    "ds.corrected_reflectivity_horizontal.plot(y=\"height\");"
   ]
  },
  {
   "cell_type": "code",
   "execution_count": null,
   "id": "ba15489c-046a-4d50-8e7b-d0a15a13abbc",
   "metadata": {},
   "outputs": [],
   "source": []
  }
 ],
 "metadata": {
  "kernelspec": {
   "display_name": "Python 3 (ipykernel)",
   "language": "python",
   "name": "python3"
  },
  "language_info": {
   "codemirror_mode": {
    "name": "ipython",
    "version": 3
   },
   "file_extension": ".py",
   "mimetype": "text/x-python",
   "name": "python",
   "nbconvert_exporter": "python",
   "pygments_lexer": "ipython3",
   "version": "3.10.5"
  }
 },
 "nbformat": 4,
 "nbformat_minor": 5
}
