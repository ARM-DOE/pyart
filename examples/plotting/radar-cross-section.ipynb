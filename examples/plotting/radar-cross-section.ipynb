{
 "cells": [
  {
   "cell_type": "code",
   "execution_count": null,
   "id": "29795a1f-326f-4380-8ef3-8f6cfe54a7bf",
   "metadata": {},
   "outputs": [],
   "source": [
    "import matplotlib.pyplot as plt\n",
    "import pyart\n",
    "from pyart.testing import get_test_data\n",
    "\n",
    "# read in the data from both XSAPR radars\n",
    "xsapr_sw_file = get_test_data(\"swx_20120520_0641.nc\")\n",
    "xsapr_se_file = get_test_data(\"sex_20120520_0641.nc\")\n",
    "radar_sw = pyart.io.read_cfradial(xsapr_sw_file)\n",
    "radar_se = pyart.io.read_cfradial(xsapr_se_file)\n",
    "\n",
    "# filter out gates with reflectivity > 100 from both radars\n",
    "gatefilter_se = pyart.filters.GateFilter(radar_se)\n",
    "gatefilter_se.exclude_transition()\n",
    "gatefilter_se.exclude_above(\"corrected_reflectivity_horizontal\", 100)\n",
    "gatefilter_sw = pyart.filters.GateFilter(radar_sw)\n",
    "gatefilter_sw.exclude_transition()\n",
    "gatefilter_sw.exclude_above(\"corrected_reflectivity_horizontal\", 100)\n",
    "\n",
    "# perform Cartesian mapping, limit to the reflectivity field.\n",
    "grid = pyart.map.grid_from_radars(\n",
    "    (radar_se, radar_sw),\n",
    "    gatefilters=(gatefilter_se, gatefilter_sw),\n",
    "    grid_shape=(20, 181, 181),\n",
    "    grid_limits=((500, 10000), (-50000, 40000), (-60000, 40000)),\n",
    "    grid_origin=(36.57861, -97.363611),\n",
    "    fields=[\"corrected_reflectivity_horizontal\"],\n",
    ")"
   ]
  },
  {
   "cell_type": "code",
   "execution_count": null,
   "id": "9720ff36-df5f-4d71-bc50-9b951c6ac664",
   "metadata": {},
   "outputs": [],
   "source": [
    "90_000 / 500"
   ]
  },
  {
   "cell_type": "code",
   "execution_count": null,
   "id": "3db08333-f323-490a-aa8e-fdd184fa9525",
   "metadata": {},
   "outputs": [],
   "source": [
    "ds = grid.to_xarray()\n",
    "ds.z"
   ]
  },
  {
   "cell_type": "code",
   "execution_count": null,
   "id": "83736b7f-6c83-43b7-a568-bb1ea9a5f289",
   "metadata": {},
   "outputs": [],
   "source": [
    "ds.y"
   ]
  },
  {
   "cell_type": "code",
   "execution_count": null,
   "id": "12258580-ab53-47e4-b6fb-e019fe9f8263",
   "metadata": {},
   "outputs": [],
   "source": [
    "start = (36.7, -97.7)\n",
    "end = (36.2, -97.8)\n",
    "\n",
    "fig = plt.figure(figsize=(18, 6))\n",
    "ax1 = plt.subplot(121, projection=ccrs.PlateCarree())\n",
    "display = pyart.graph.GridMapDisplay(grid)\n",
    "display.plot_grid(\n",
    "    \"corrected_reflectivity_horizontal\",\n",
    "    ax=ax1,\n",
    "    cmap=\"pyart_HomeyerRainbow\",\n",
    "    vmin=-20,\n",
    "    vmax=70,\n",
    ")\n",
    "ax1.scatter(start[1], start[0], color=\"tab:blue\", label=\"Start\")\n",
    "ax1.scatter(end[1], end[0], color=\"black\", label=\"End\")\n",
    "ax1.plot([start[1], end[1]], [start[0], end[0]], color=\"k\", linestyle=\":\")\n",
    "plt.legend(loc=\"upper right\")\n",
    "\n",
    "ax2 = plt.subplot(122)\n",
    "display.plot_cross_section(\n",
    "    \"corrected_reflectivity_horizontal\",\n",
    "    start,\n",
    "    end,\n",
    "    x_axis=\"lat\",\n",
    "    cmap=\"pyart_HomeyerRainbow\",\n",
    "    vmin=-20,\n",
    "    vmax=70,\n",
    ")"
   ]
  },
  {
   "cell_type": "code",
   "execution_count": null,
   "id": "d4b26e71-c4c3-4056-b213-2f3e825af1b0",
   "metadata": {},
   "outputs": [],
   "source": [
    "fig = plt.figure()\n",
    "start = (34.8, -98.75)\n",
    "end = (38.6, -96.45)\n",
    "grid = pyart.testing.make_target_grid()\n",
    "display = pyart.graph.GridMapDisplay(grid)\n",
    "display.plot_cross_section(\"reflectivity\", start, end, x_axis=\"lat\", vmin=-5, vmax=35)"
   ]
  },
  {
   "cell_type": "code",
   "execution_count": null,
   "id": "b08e869c-de60-4880-96eb-b2c70fb72232",
   "metadata": {},
   "outputs": [],
   "source": [
    "display = pyart.graph.GridMapDisplay(grid)\n",
    "display.plot_cross_section(\"reflectivity\", start, end, x_axis=\"lat\", vmin=-5, vmax=35)"
   ]
  },
  {
   "cell_type": "code",
   "execution_count": null,
   "id": "398b4e25-15c8-4f3d-a355-f05cf4dd8b37",
   "metadata": {},
   "outputs": [],
   "source": [
    "start = (36.7, -97.7)\n",
    "end = (36.2, -97.8)\n",
    "\n",
    "\n",
    "display = pyart.graph.GridMapDisplay(grid)"
   ]
  },
  {
   "cell_type": "code",
   "execution_count": null,
   "id": "4dd03c38-89cb-4fb3-9aee-01061c63519b",
   "metadata": {},
   "outputs": [],
   "source": [
    "list(grid.fields)"
   ]
  },
  {
   "cell_type": "code",
   "execution_count": null,
   "id": "9bbaeb48-f084-47f3-8d5c-c748dde50599",
   "metadata": {},
   "outputs": [],
   "source": [
    "display.plot_cross_section(\n",
    "    \"reflectivity\",\n",
    "    start,\n",
    "    end,\n",
    "    x_axis=\"lon\",\n",
    "    cmap=\"pyart_HomeyerRainbow\",\n",
    "    vmin=-20,\n",
    "    vmax=70,\n",
    ")"
   ]
  },
  {
   "cell_type": "code",
   "execution_count": null,
   "id": "5fd8d6ed-e8fc-41a8-966f-2d69b4611e7c",
   "metadata": {},
   "outputs": [],
   "source": [
    "ds = grid.to_xarray()"
   ]
  },
  {
   "cell_type": "code",
   "execution_count": null,
   "id": "08e105c9-e275-48e6-8b92-2dc26996ee90",
   "metadata": {},
   "outputs": [],
   "source": [
    "params = grid.get_projparams()"
   ]
  },
  {
   "cell_type": "code",
   "execution_count": null,
   "id": "44f4f7ac-80fb-4bfc-8c82-f1754504c9b4",
   "metadata": {},
   "outputs": [],
   "source": [
    "from metpy.interpolate import cross_section"
   ]
  },
  {
   "cell_type": "code",
   "execution_count": null,
   "id": "1ac50f98-aa14-4c51-abf9-75f50e85a46a",
   "metadata": {},
   "outputs": [],
   "source": [
    "import cartopy.crs as ccrs\n",
    "\n",
    "# ds.attrs[\"projection\"] = ccrs.PlateCarree().proj4_params\n",
    "ds = ds.metpy.parse_cf()"
   ]
  },
  {
   "cell_type": "code",
   "execution_count": null,
   "id": "0c735371-d45c-4acf-b811-5e836414c282",
   "metadata": {},
   "outputs": [],
   "source": []
  },
  {
   "cell_type": "code",
   "execution_count": null,
   "id": "fa5eef8b-89ca-4f62-9db3-e52d51ef9fa4",
   "metadata": {},
   "outputs": [],
   "source": [
    "radar_crs = ccrs.AzimuthalEquidistant(\n",
    "    central_longitude=params[\"lon_0\"], central_latitude=params[\"lat_0\"]\n",
    ")"
   ]
  },
  {
   "cell_type": "code",
   "execution_count": null,
   "id": "b355eb69-814d-4423-a102-97b94ef4d52a",
   "metadata": {},
   "outputs": [],
   "source": [
    "projection_info = radar_crs.to_cf()"
   ]
  },
  {
   "cell_type": "code",
   "execution_count": null,
   "id": "c514e087-6773-4eb7-828b-bbd712f34144",
   "metadata": {},
   "outputs": [],
   "source": [
    "projection_info"
   ]
  },
  {
   "cell_type": "code",
   "execution_count": null,
   "id": "173d4fd6-5151-462a-976d-4497fcd0893d",
   "metadata": {},
   "outputs": [],
   "source": [
    "ds = ds.metpy.assign_crs(projection_info)"
   ]
  },
  {
   "cell_type": "code",
   "execution_count": null,
   "id": "b832bc3f-f57c-4d82-8c91-44aa25effbb7",
   "metadata": {},
   "outputs": [],
   "source": [
    "ds[\"z\"] = ds.z / 1000"
   ]
  },
  {
   "cell_type": "code",
   "execution_count": null,
   "id": "ae2925d8-5be7-4429-8b0c-926007281e04",
   "metadata": {},
   "outputs": [],
   "source": [
    "ds.z.attrs[\"units\"] = \"Distance above radar (km)\""
   ]
  },
  {
   "cell_type": "code",
   "execution_count": null,
   "id": "76212366-1252-48f8-93b6-af3701e54516",
   "metadata": {},
   "outputs": [],
   "source": [
    "fig = plt.figure()\n",
    "ax = plt.subplot(111)\n",
    "ds.corrected_reflectivity_horizontal.isel(z=0).plot(\n",
    "    x=\"lon\",\n",
    "    y=\"lat\",\n",
    "    cmap=\"pyart_HomeyerRainbow\",\n",
    "    vmin=-20,\n",
    "    vmax=60,\n",
    "    ax=ax,\n",
    "    add_colorbar=False,\n",
    ")"
   ]
  },
  {
   "cell_type": "code",
   "execution_count": null,
   "id": "d3573771-bccd-4248-b231-be323cbf0d45",
   "metadata": {},
   "outputs": [],
   "source": [
    "start = (36.7, -97.7)\n",
    "end = (36.2, -97.8)\n",
    "\n",
    "fig = plt.figure()\n",
    "ax = plt.subplot(111)\n",
    "ds.corrected_reflectivity_horizontal.isel(z=0).plot(\n",
    "    x=\"lon\", y=\"lat\", cmap=\"pyart_HomeyerRainbow\", vmin=-20, vmax=60, ax=ax\n",
    ")\n",
    "ax.scatter(start[1], start[0], label=\"Start Point\", color=\"tab:blue\")\n",
    "ax.scatter(end[1], end[0], label=\"Start Point\", color=\"k\")\n",
    "ax.plot([start[1], end[1]], [start[0], end[0]], color=\"k\", linestyle=\":\")\n",
    "plt.legend()"
   ]
  },
  {
   "cell_type": "code",
   "execution_count": null,
   "id": "cd06d2ef-78e5-45c0-bfeb-912744790f1f",
   "metadata": {},
   "outputs": [],
   "source": [
    "cross = cross_section(ds, start, end).set_coords((\"lat\", \"lon\"))"
   ]
  },
  {
   "cell_type": "code",
   "execution_count": null,
   "id": "46323828-1f10-4f54-aa04-5029ac047f30",
   "metadata": {},
   "outputs": [],
   "source": [
    "fig = plt.figure(figsize=(10, 8))\n",
    "title = \"($^\\circ$N)\"\n",
    "cross.corrected_reflectivity_horizontal.plot(\n",
    "    cmap=\"pyart_HomeyerRainbow\",\n",
    "    x=None,\n",
    "    y=\"z\",\n",
    "    vmin=-20,\n",
    "    vmax=60,\n",
    ")\n",
    "plt.title(title)"
   ]
  },
  {
   "cell_type": "code",
   "execution_count": null,
   "id": "3b63e2d9-2c45-484a-b9c8-0d0a7e7df00a",
   "metadata": {},
   "outputs": [],
   "source": [
    "from pyart.graph.common import generate_grid_time_begin, generate_field_name\n",
    "\n",
    "\n",
    "def generate_cross_section_title(grid, field, start, end):\n",
    "    \"\"\"\n",
    "    Generate a title for a plot.\n",
    "\n",
    "    Parameters\n",
    "    ----------\n",
    "    grid : Grid\n",
    "        Radar structure.\n",
    "    field : str\n",
    "        Field plotted.\n",
    "    start : tuple\n",
    "        Latitude-Longitude pair of starting points\n",
    "    end: tuple\n",
    "        Latitude-Longitude pair of ending poins\n",
    "\n",
    "    Returns\n",
    "    -------\n",
    "    title : str\n",
    "        Plot title.\n",
    "\n",
    "    \"\"\"\n",
    "\n",
    "    # Grab information about the grid\n",
    "    time_str = generate_grid_time_begin(grid).strftime(\"%Y-%m-%dT%H:%M:%SZ\")\n",
    "    field_name = generate_field_name(grid, field)\n",
    "\n",
    "    # Deal with the latitude/longitude part\n",
    "    start_lat, start_lon = start\n",
    "    end_lat, end_lon = end\n",
    "\n",
    "    degree_symbol = \"\\N{DEGREE SIGN}\"\n",
    "\n",
    "    # Add degrees latitude/longitude labels\n",
    "\n",
    "    if start_lat < 0:\n",
    "        start_lat_string = f\"{-start_lat}{degree_symbol}S\"\n",
    "    else:\n",
    "        start_lat_string = f\"{start_lat}{degree_symbol}N\"\n",
    "\n",
    "    if end_lat < 0:\n",
    "        end_lat_string = f\"{-end_lat}{degree_symbol}S\"\n",
    "    else:\n",
    "        end_lat_string = f\"{end_lat}{degree_symbol}N\"\n",
    "\n",
    "    if start_lon < 0:\n",
    "        start_lon_string = f\"{-start_lon}{degree_symbol}W\"\n",
    "    else:\n",
    "        start_lon_string = f\"{start_lon}{degree_symbol}E\"\n",
    "\n",
    "    if end_lon < 0:\n",
    "        end_lon_string = f\"{-end_lon}{degree_symbol}W\"\n",
    "    else:\n",
    "        end_lon_string = f\"{end_lon}{degree_symbol}E\"\n",
    "\n",
    "    return (\n",
    "        f\"({start_lat_string}, {start_lon_string})\"\n",
    "        f\" to ({end_lat_string}, {end_lon_string}) \\n {time_str} \\n {field_name}\"\n",
    "    )"
   ]
  },
  {
   "cell_type": "code",
   "execution_count": null,
   "id": "9d44b71e-6237-4230-8d14-644d91f04295",
   "metadata": {},
   "outputs": [],
   "source": [
    "fig = plt.figure(figsize=(10, 8))\n",
    "title = generate_cross_section_title(\n",
    "    grid, \"corrected_reflectivity_horizontal\", start, end\n",
    ")\n",
    "cross.corrected_reflectivity_horizontal.plot(\n",
    "    cmap=\"pyart_HomeyerRainbow\",\n",
    "    x=None,\n",
    "    y=\"z\",\n",
    "    vmin=-20,\n",
    "    vmax=60,\n",
    ")\n",
    "plt.title(title)"
   ]
  },
  {
   "cell_type": "code",
   "execution_count": null,
   "id": "30da3090-d883-4aa5-bed9-3709167d0360",
   "metadata": {
    "tags": []
   },
   "outputs": [],
   "source": [
    "title"
   ]
  },
  {
   "cell_type": "code",
   "execution_count": null,
   "id": "924dbec2-5708-4d67-b2cf-aa2cdb1bcd14",
   "metadata": {},
   "outputs": [],
   "source": []
  }
 ],
 "metadata": {
  "kernelspec": {
   "display_name": "Python 3 (ipykernel)",
   "language": "python",
   "name": "python3"
  },
  "language_info": {
   "codemirror_mode": {
    "name": "ipython",
    "version": 3
   },
   "file_extension": ".py",
   "mimetype": "text/x-python",
   "name": "python",
   "nbconvert_exporter": "python",
   "pygments_lexer": "ipython3",
   "version": "3.10.6"
  }
 },
 "nbformat": 4,
 "nbformat_minor": 5
}
